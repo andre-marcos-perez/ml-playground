{
 "cells": [
  {
   "cell_type": "code",
   "execution_count": 1,
   "id": "38fe9913-9f9e-4d7a-abe6-3e532718b4be",
   "metadata": {},
   "outputs": [],
   "source": [
    "import numpy as np\n",
    "import pandas as pd"
   ]
  },
  {
   "cell_type": "markdown",
   "id": "ffad3861-8265-4db7-a237-e2084dd91ab5",
   "metadata": {},
   "source": [
    "# 1. Data"
   ]
  },
  {
   "cell_type": "code",
   "execution_count": 2,
   "id": "a5e42370-6e89-4f7b-b1c4-d6012feaf449",
   "metadata": {},
   "outputs": [],
   "source": [
    "from sklearn.datasets import fetch_openml"
   ]
  },
  {
   "cell_type": "code",
   "execution_count": 3,
   "id": "68db0441-4944-427c-87bf-160af614189e",
   "metadata": {},
   "outputs": [
    {
     "data": {
      "text/plain": [
       "dict_keys(['data', 'target', 'frame', 'categories', 'feature_names', 'target_names', 'DESCR', 'details', 'url'])"
      ]
     },
     "execution_count": 3,
     "metadata": {},
     "output_type": "execute_result"
    }
   ],
   "source": [
    "dataset = fetch_openml(\"mnist_784\", version=1)\n",
    "dataset.keys()"
   ]
  },
  {
   "cell_type": "markdown",
   "id": "fbcffe82-f2d1-472c-afcc-b4cdc49a387f",
   "metadata": {},
   "source": [
    "## 1.1. Features"
   ]
  },
  {
   "cell_type": "code",
   "execution_count": 4,
   "id": "d8117e39-87c4-47c6-875c-6595a6c71b8f",
   "metadata": {},
   "outputs": [],
   "source": [
    "X: pd.DataFrame = dataset[\"data\"]"
   ]
  },
  {
   "cell_type": "code",
   "execution_count": 5,
   "id": "1903d3fd-d490-4896-9ffc-d3d105189b41",
   "metadata": {},
   "outputs": [],
   "source": [
    "X = X / 255.0  # scaling for gradient descent"
   ]
  },
  {
   "cell_type": "code",
   "execution_count": 6,
   "id": "264ea155-57b5-465f-bf04-b22c442272c7",
   "metadata": {},
   "outputs": [
    {
     "data": {
      "text/plain": [
       "(70000, 784)"
      ]
     },
     "execution_count": 6,
     "metadata": {},
     "output_type": "execute_result"
    }
   ],
   "source": [
    "X.shape"
   ]
  },
  {
   "cell_type": "code",
   "execution_count": 7,
   "id": "a1829737-4007-455e-ae92-686c491ad96e",
   "metadata": {},
   "outputs": [
    {
     "data": {
      "text/html": [
       "<div>\n",
       "<style scoped>\n",
       "    .dataframe tbody tr th:only-of-type {\n",
       "        vertical-align: middle;\n",
       "    }\n",
       "\n",
       "    .dataframe tbody tr th {\n",
       "        vertical-align: top;\n",
       "    }\n",
       "\n",
       "    .dataframe thead th {\n",
       "        text-align: right;\n",
       "    }\n",
       "</style>\n",
       "<table border=\"1\" class=\"dataframe\">\n",
       "  <thead>\n",
       "    <tr style=\"text-align: right;\">\n",
       "      <th></th>\n",
       "      <th>pixel1</th>\n",
       "      <th>pixel2</th>\n",
       "      <th>pixel3</th>\n",
       "      <th>pixel4</th>\n",
       "      <th>pixel5</th>\n",
       "      <th>pixel6</th>\n",
       "      <th>pixel7</th>\n",
       "      <th>pixel8</th>\n",
       "      <th>pixel9</th>\n",
       "      <th>pixel10</th>\n",
       "      <th>...</th>\n",
       "      <th>pixel775</th>\n",
       "      <th>pixel776</th>\n",
       "      <th>pixel777</th>\n",
       "      <th>pixel778</th>\n",
       "      <th>pixel779</th>\n",
       "      <th>pixel780</th>\n",
       "      <th>pixel781</th>\n",
       "      <th>pixel782</th>\n",
       "      <th>pixel783</th>\n",
       "      <th>pixel784</th>\n",
       "    </tr>\n",
       "  </thead>\n",
       "  <tbody>\n",
       "    <tr>\n",
       "      <th>0</th>\n",
       "      <td>0.0</td>\n",
       "      <td>0.0</td>\n",
       "      <td>0.0</td>\n",
       "      <td>0.0</td>\n",
       "      <td>0.0</td>\n",
       "      <td>0.0</td>\n",
       "      <td>0.0</td>\n",
       "      <td>0.0</td>\n",
       "      <td>0.0</td>\n",
       "      <td>0.0</td>\n",
       "      <td>...</td>\n",
       "      <td>0.0</td>\n",
       "      <td>0.0</td>\n",
       "      <td>0.0</td>\n",
       "      <td>0.0</td>\n",
       "      <td>0.0</td>\n",
       "      <td>0.0</td>\n",
       "      <td>0.0</td>\n",
       "      <td>0.0</td>\n",
       "      <td>0.0</td>\n",
       "      <td>0.0</td>\n",
       "    </tr>\n",
       "    <tr>\n",
       "      <th>1</th>\n",
       "      <td>0.0</td>\n",
       "      <td>0.0</td>\n",
       "      <td>0.0</td>\n",
       "      <td>0.0</td>\n",
       "      <td>0.0</td>\n",
       "      <td>0.0</td>\n",
       "      <td>0.0</td>\n",
       "      <td>0.0</td>\n",
       "      <td>0.0</td>\n",
       "      <td>0.0</td>\n",
       "      <td>...</td>\n",
       "      <td>0.0</td>\n",
       "      <td>0.0</td>\n",
       "      <td>0.0</td>\n",
       "      <td>0.0</td>\n",
       "      <td>0.0</td>\n",
       "      <td>0.0</td>\n",
       "      <td>0.0</td>\n",
       "      <td>0.0</td>\n",
       "      <td>0.0</td>\n",
       "      <td>0.0</td>\n",
       "    </tr>\n",
       "    <tr>\n",
       "      <th>2</th>\n",
       "      <td>0.0</td>\n",
       "      <td>0.0</td>\n",
       "      <td>0.0</td>\n",
       "      <td>0.0</td>\n",
       "      <td>0.0</td>\n",
       "      <td>0.0</td>\n",
       "      <td>0.0</td>\n",
       "      <td>0.0</td>\n",
       "      <td>0.0</td>\n",
       "      <td>0.0</td>\n",
       "      <td>...</td>\n",
       "      <td>0.0</td>\n",
       "      <td>0.0</td>\n",
       "      <td>0.0</td>\n",
       "      <td>0.0</td>\n",
       "      <td>0.0</td>\n",
       "      <td>0.0</td>\n",
       "      <td>0.0</td>\n",
       "      <td>0.0</td>\n",
       "      <td>0.0</td>\n",
       "      <td>0.0</td>\n",
       "    </tr>\n",
       "    <tr>\n",
       "      <th>3</th>\n",
       "      <td>0.0</td>\n",
       "      <td>0.0</td>\n",
       "      <td>0.0</td>\n",
       "      <td>0.0</td>\n",
       "      <td>0.0</td>\n",
       "      <td>0.0</td>\n",
       "      <td>0.0</td>\n",
       "      <td>0.0</td>\n",
       "      <td>0.0</td>\n",
       "      <td>0.0</td>\n",
       "      <td>...</td>\n",
       "      <td>0.0</td>\n",
       "      <td>0.0</td>\n",
       "      <td>0.0</td>\n",
       "      <td>0.0</td>\n",
       "      <td>0.0</td>\n",
       "      <td>0.0</td>\n",
       "      <td>0.0</td>\n",
       "      <td>0.0</td>\n",
       "      <td>0.0</td>\n",
       "      <td>0.0</td>\n",
       "    </tr>\n",
       "    <tr>\n",
       "      <th>4</th>\n",
       "      <td>0.0</td>\n",
       "      <td>0.0</td>\n",
       "      <td>0.0</td>\n",
       "      <td>0.0</td>\n",
       "      <td>0.0</td>\n",
       "      <td>0.0</td>\n",
       "      <td>0.0</td>\n",
       "      <td>0.0</td>\n",
       "      <td>0.0</td>\n",
       "      <td>0.0</td>\n",
       "      <td>...</td>\n",
       "      <td>0.0</td>\n",
       "      <td>0.0</td>\n",
       "      <td>0.0</td>\n",
       "      <td>0.0</td>\n",
       "      <td>0.0</td>\n",
       "      <td>0.0</td>\n",
       "      <td>0.0</td>\n",
       "      <td>0.0</td>\n",
       "      <td>0.0</td>\n",
       "      <td>0.0</td>\n",
       "    </tr>\n",
       "  </tbody>\n",
       "</table>\n",
       "<p>5 rows × 784 columns</p>\n",
       "</div>"
      ],
      "text/plain": [
       "   pixel1  pixel2  pixel3  pixel4  pixel5  pixel6  pixel7  pixel8  pixel9  \\\n",
       "0     0.0     0.0     0.0     0.0     0.0     0.0     0.0     0.0     0.0   \n",
       "1     0.0     0.0     0.0     0.0     0.0     0.0     0.0     0.0     0.0   \n",
       "2     0.0     0.0     0.0     0.0     0.0     0.0     0.0     0.0     0.0   \n",
       "3     0.0     0.0     0.0     0.0     0.0     0.0     0.0     0.0     0.0   \n",
       "4     0.0     0.0     0.0     0.0     0.0     0.0     0.0     0.0     0.0   \n",
       "\n",
       "   pixel10  ...  pixel775  pixel776  pixel777  pixel778  pixel779  pixel780  \\\n",
       "0      0.0  ...       0.0       0.0       0.0       0.0       0.0       0.0   \n",
       "1      0.0  ...       0.0       0.0       0.0       0.0       0.0       0.0   \n",
       "2      0.0  ...       0.0       0.0       0.0       0.0       0.0       0.0   \n",
       "3      0.0  ...       0.0       0.0       0.0       0.0       0.0       0.0   \n",
       "4      0.0  ...       0.0       0.0       0.0       0.0       0.0       0.0   \n",
       "\n",
       "   pixel781  pixel782  pixel783  pixel784  \n",
       "0       0.0       0.0       0.0       0.0  \n",
       "1       0.0       0.0       0.0       0.0  \n",
       "2       0.0       0.0       0.0       0.0  \n",
       "3       0.0       0.0       0.0       0.0  \n",
       "4       0.0       0.0       0.0       0.0  \n",
       "\n",
       "[5 rows x 784 columns]"
      ]
     },
     "execution_count": 7,
     "metadata": {},
     "output_type": "execute_result"
    }
   ],
   "source": [
    "X.head()"
   ]
  },
  {
   "cell_type": "markdown",
   "id": "7ed393ef-9117-4e27-aed3-41b51b9c991d",
   "metadata": {},
   "source": [
    "## 1.2. Target"
   ]
  },
  {
   "cell_type": "code",
   "execution_count": 8,
   "id": "6eb09523-ee4c-4b0c-8ac6-618263c86767",
   "metadata": {},
   "outputs": [],
   "source": [
    "y: pd.DataFrame = dataset[\"target\"]"
   ]
  },
  {
   "cell_type": "code",
   "execution_count": 9,
   "id": "96983fb5-c820-457c-889e-dc220d85d173",
   "metadata": {},
   "outputs": [],
   "source": [
    "y = y.astype(int)"
   ]
  },
  {
   "cell_type": "code",
   "execution_count": 10,
   "id": "6788ca7f-5ad7-4cfc-9f7b-c3d8d279993f",
   "metadata": {},
   "outputs": [
    {
     "data": {
      "text/plain": [
       "(70000,)"
      ]
     },
     "execution_count": 10,
     "metadata": {},
     "output_type": "execute_result"
    }
   ],
   "source": [
    "y.shape"
   ]
  },
  {
   "cell_type": "code",
   "execution_count": 11,
   "id": "db894f73-d6e8-409b-814c-4f29d7efb41e",
   "metadata": {},
   "outputs": [
    {
     "data": {
      "text/plain": [
       "0    5\n",
       "1    0\n",
       "2    4\n",
       "3    1\n",
       "4    9\n",
       "Name: class, dtype: int64"
      ]
     },
     "execution_count": 11,
     "metadata": {},
     "output_type": "execute_result"
    }
   ],
   "source": [
    "y.head()"
   ]
  },
  {
   "cell_type": "code",
   "execution_count": 12,
   "id": "d872e20e-48a8-4809-9e74-37016efc9921",
   "metadata": {},
   "outputs": [
    {
     "data": {
      "text/plain": [
       "class\n",
       "1    7877\n",
       "7    7293\n",
       "3    7141\n",
       "2    6990\n",
       "9    6958\n",
       "0    6903\n",
       "6    6876\n",
       "8    6825\n",
       "4    6824\n",
       "5    6313\n",
       "Name: count, dtype: int64"
      ]
     },
     "execution_count": 12,
     "metadata": {},
     "output_type": "execute_result"
    }
   ],
   "source": [
    "y.value_counts()"
   ]
  },
  {
   "cell_type": "markdown",
   "id": "6c84c6cb-57d9-4873-a5ff-1915871f4167",
   "metadata": {},
   "source": [
    "## 1.3. Instance"
   ]
  },
  {
   "cell_type": "code",
   "execution_count": 13,
   "id": "1391eef8-1369-44f8-adf8-149f0c111055",
   "metadata": {},
   "outputs": [],
   "source": [
    "import matplotlib as mpl\n",
    "import matplotlib.pyplot as plt"
   ]
  },
  {
   "cell_type": "markdown",
   "id": "448ec01e-0451-42e3-9c24-64d6866f2161",
   "metadata": {},
   "source": [
    "Find the first occurance of the number eight"
   ]
  },
  {
   "cell_type": "code",
   "execution_count": 14,
   "id": "5063867c-131a-4f7d-9152-45245c97ae6d",
   "metadata": {},
   "outputs": [],
   "source": [
    "arg = np.argwhere(y.astype(int) == 8)[0]"
   ]
  },
  {
   "cell_type": "markdown",
   "id": "a82d8f2d-ebf6-4342-8172-441631ac5095",
   "metadata": {},
   "source": [
    "Plot the number eight"
   ]
  },
  {
   "cell_type": "code",
   "execution_count": 15,
   "id": "75527547-baeb-4c85-94d0-8607cfd7ca11",
   "metadata": {},
   "outputs": [],
   "source": [
    "instance = X.iloc[arg].to_numpy()"
   ]
  },
  {
   "cell_type": "code",
   "execution_count": 16,
   "id": "b8320cee-0f58-4060-89ba-36c7ab22798e",
   "metadata": {},
   "outputs": [
    {
     "data": {
      "image/png": "[encoded data removed]",
      "text/plain": [
       "<Figure size 640x480 with 1 Axes>"
      ]
     },
     "metadata": {},
     "output_type": "display_data"
    }
   ],
   "source": [
    "plt.imshow(instance.reshape(28, 28), cmap=\"binary\")\n",
    "plt.show()"
   ]
  },
  {
   "cell_type": "markdown",
   "id": "fb1e3ca3-76de-4d18-aad9-2fdd9f314af1",
   "metadata": {},
   "source": [
    "# 2. Binary"
   ]
  },
  {
   "cell_type": "markdown",
   "id": "e4bf59a2-2fb1-4b6e-be9f-e1d16fce377f",
   "metadata": {},
   "source": [
    "## 2.1. Train"
   ]
  },
  {
   "cell_type": "markdown",
   "id": "d8cf851c-916e-4a66-be18-3be667b0696d",
   "metadata": {},
   "source": [
    "Multiclass for the all numbers"
   ]
  },
  {
   "cell_type": "code",
   "execution_count": 17,
   "id": "045c861f-46ce-4e5a-a617-81f85ef02856",
   "metadata": {},
   "outputs": [],
   "source": [
    "SPLIT = 60000"
   ]
  },
  {
   "cell_type": "code",
   "execution_count": 18,
   "id": "5d9aa30e-e396-4347-8839-2023780be9c8",
   "metadata": {},
   "outputs": [],
   "source": [
    "X_train, X_test, y_train, y_test = X[:SPLIT], X[SPLIT:], y[:SPLIT], y[SPLIT:]"
   ]
  },
  {
   "cell_type": "code",
   "execution_count": 19,
   "id": "c04f0578-04d9-40fa-932c-f62060225ec6",
   "metadata": {},
   "outputs": [],
   "source": [
    "SPLIT = 50000"
   ]
  },
  {
   "cell_type": "code",
   "execution_count": 20,
   "id": "3b6dcaec-2e28-428f-baac-6fd2604e5218",
   "metadata": {},
   "outputs": [],
   "source": [
    "X_train, X_valid, y_train, y_valid = (\n",
    "    X_train[:SPLIT],\n",
    "    X_train[SPLIT:],\n",
    "    y_train[:SPLIT],\n",
    "    y_train[SPLIT:],\n",
    ")"
   ]
  },
  {
   "cell_type": "markdown",
   "id": "a339f1b9-d302-4ddf-afe0-1536957fd9aa",
   "metadata": {},
   "source": [
    "Check dimensions"
   ]
  },
  {
   "cell_type": "code",
   "execution_count": 21,
   "id": "5a3de1af-7c6e-4a54-861e-c15b48417397",
   "metadata": {},
   "outputs": [
    {
     "data": {
      "text/plain": [
       "((50000, 784), (50000,))"
      ]
     },
     "execution_count": 21,
     "metadata": {},
     "output_type": "execute_result"
    }
   ],
   "source": [
    "X_train.shape, y_train.shape"
   ]
  },
  {
   "cell_type": "code",
   "execution_count": 22,
   "id": "e6909b42-5b27-40d2-8966-cba02800ff76",
   "metadata": {},
   "outputs": [
    {
     "data": {
      "text/plain": [
       "((10000, 784), (10000,))"
      ]
     },
     "execution_count": 22,
     "metadata": {},
     "output_type": "execute_result"
    }
   ],
   "source": [
    "X_valid.shape, y_valid.shape"
   ]
  },
  {
   "cell_type": "code",
   "execution_count": 23,
   "id": "0cd33982-09a0-4ea4-be9a-665e264ddf46",
   "metadata": {},
   "outputs": [
    {
     "data": {
      "text/plain": [
       "((10000, 784), (10000,))"
      ]
     },
     "execution_count": 23,
     "metadata": {},
     "output_type": "execute_result"
    }
   ],
   "source": [
    "X_test.shape, y_test.shape"
   ]
  },
  {
   "cell_type": "markdown",
   "id": "1b00ec92-8bc4-4da3-af96-db00cbfb1edb",
   "metadata": {},
   "source": [
    "### 2.1.1. Baseline"
   ]
  },
  {
   "cell_type": "code",
   "execution_count": 24,
   "id": "b697e28a-70ec-47c2-a2f1-be545b78485c",
   "metadata": {},
   "outputs": [],
   "source": [
    "from sklearn.base import BaseEstimator"
   ]
  },
  {
   "cell_type": "code",
   "execution_count": 25,
   "id": "2bcc4459-6bf9-4136-89bb-5cdf464ece4e",
   "metadata": {},
   "outputs": [],
   "source": [
    "class NeverFiveClassifier(BaseEstimator):\n",
    "    def fit(self, X, y=None):\n",
    "        pass\n",
    "\n",
    "    def predict(self, X):\n",
    "        return np.zeros((len(X), 1), dtype=bool)"
   ]
  },
  {
   "cell_type": "code",
   "execution_count": 26,
   "id": "049d573e-52a8-4f0e-a0e6-58eb894ce278",
   "metadata": {},
   "outputs": [],
   "source": [
    "baseline = NeverFiveClassifier()"
   ]
  },
  {
   "cell_type": "markdown",
   "id": "76f3340f-94f1-4249-9d1a-c45b006515fc",
   "metadata": {},
   "source": [
    "Compute average accuracy with cross validation "
   ]
  },
  {
   "cell_type": "code",
   "execution_count": 27,
   "id": "7f7bd320-2b3c-4299-9ac4-bebea385dda5",
   "metadata": {},
   "outputs": [],
   "source": [
    "from sklearn.model_selection import cross_val_score"
   ]
  },
  {
   "cell_type": "code",
   "execution_count": 28,
   "id": "f976f92a-4e47-4aea-a517-3ed4860cea86",
   "metadata": {},
   "outputs": [],
   "source": [
    "scores_dict = dict()\n",
    "\n",
    "for i in range(0, 10):\n",
    "    scores = cross_val_score(\n",
    "        baseline,\n",
    "        X_train,\n",
    "        y_train.apply(lambda x: int(x) == i),\n",
    "        cv=3,\n",
    "        scoring=\"accuracy\",\n",
    "    )\n",
    "    scores_dict[i] = scores"
   ]
  },
  {
   "cell_type": "code",
   "execution_count": 29,
   "id": "86b1d5c6-8ed1-4b33-8f6e-28eb59075618",
   "metadata": {},
   "outputs": [
    {
     "name": "stdout",
     "output_type": "stream",
     "text": [
      "0 0.9013599819207263\n",
      "1 0.8864400271096943\n",
      "2 0.9006399603197184\n",
      "3 0.8979800015184143\n",
      "4 0.9028200043223426\n",
      "5 0.9098800107281185\n",
      "6 0.9009800027208383\n",
      "7 0.8965000023172464\n",
      "8 0.9031599735219985\n",
      "9 0.9002400355209024\n"
     ]
    }
   ],
   "source": [
    "for k in scores_dict.keys():\n",
    "    print(k, np.mean(scores_dict[k]))"
   ]
  },
  {
   "cell_type": "markdown",
   "id": "95d15aeb-04c7-4454-bbc1-293eaa518cac",
   "metadata": {},
   "source": [
    "### 2.1.2. Model"
   ]
  },
  {
   "cell_type": "code",
   "execution_count": 30,
   "id": "e35c7bcf-a244-4e43-be46-af350d6c4b94",
   "metadata": {},
   "outputs": [],
   "source": [
    "import tensorflow as tf\n",
    "from tensorflow import keras"
   ]
  },
  {
   "cell_type": "code",
   "execution_count": 31,
   "id": "4691f5c0-bc3a-4868-833d-cec874703d48",
   "metadata": {},
   "outputs": [],
   "source": [
    "model = keras.models.Sequential(\n",
    "    [\n",
    "        keras.Input(shape=(784,)),\n",
    "        keras.layers.Dense(256, activation=keras.activations.relu),\n",
    "        keras.layers.Dense(128, activation=keras.activations.relu),\n",
    "        keras.layers.Dense(10, activation=keras.activations.softmax),\n",
    "    ]\n",
    ")"
   ]
  },
  {
   "cell_type": "code",
   "execution_count": 32,
   "id": "90b2d3a7-d16d-4d4a-b5ff-8b91fc0b586d",
   "metadata": {},
   "outputs": [
    {
     "data": {
      "text/html": [
       "<pre style=\"white-space:pre;overflow-x:auto;line-height:normal;font-family:Menlo,'DejaVu Sans Mono',consolas,'Courier New',monospace\"><span style=\"font-weight: bold\">Model: \"sequential\"</span>\n",
       "</pre>\n"
      ],
      "text/plain": [
       "\u001b[1mModel: \"sequential\"\u001b[0m\n"
      ]
     },
     "metadata": {},
     "output_type": "display_data"
    },
    {
     "data": {
      "text/html": [
       "<pre style=\"white-space:pre;overflow-x:auto;line-height:normal;font-family:Menlo,'DejaVu Sans Mono',consolas,'Courier New',monospace\">┏━━━━━━━━━━━━━━━━━━━━━━━━━━━━━━━━━┳━━━━━━━━━━━━━━━━━━━━━━━━┳━━━━━━━━━━━━━━━┓\n",
       "┃<span style=\"font-weight: bold\"> Layer (type)                    </span>┃<span style=\"font-weight: bold\"> Output Shape           </span>┃<span style=\"font-weight: bold\">       Param # </span>┃\n",
       "┡━━━━━━━━━━━━━━━━━━━━━━━━━━━━━━━━━╇━━━━━━━━━━━━━━━━━━━━━━━━╇━━━━━━━━━━━━━━━┩\n",
       "│ dense (<span style=\"color: #0087ff; text-decoration-color: #0087ff\">Dense</span>)                   │ (<span style=\"color: #00d7ff; text-decoration-color: #00d7ff\">None</span>, <span style=\"color: #00af00; text-decoration-color: #00af00\">256</span>)            │       <span style=\"color: #00af00; text-decoration-color: #00af00\">200,960</span> │\n",
       "├─────────────────────────────────┼────────────────────────┼───────────────┤\n",
       "│ dense_1 (<span style=\"color: #0087ff; text-decoration-color: #0087ff\">Dense</span>)                 │ (<span style=\"color: #00d7ff; text-decoration-color: #00d7ff\">None</span>, <span style=\"color: #00af00; text-decoration-color: #00af00\">128</span>)            │        <span style=\"color: #00af00; text-decoration-color: #00af00\">32,896</span> │\n",
       "├─────────────────────────────────┼────────────────────────┼───────────────┤\n",
       "│ dense_2 (<span style=\"color: #0087ff; text-decoration-color: #0087ff\">Dense</span>)                 │ (<span style=\"color: #00d7ff; text-decoration-color: #00d7ff\">None</span>, <span style=\"color: #00af00; text-decoration-color: #00af00\">10</span>)             │         <span style=\"color: #00af00; text-decoration-color: #00af00\">1,290</span> │\n",
       "└─────────────────────────────────┴────────────────────────┴───────────────┘\n",
       "</pre>\n"
      ],
      "text/plain": [
       "┏━━━━━━━━━━━━━━━━━━━━━━━━━━━━━━━━━┳━━━━━━━━━━━━━━━━━━━━━━━━┳━━━━━━━━━━━━━━━┓\n",
       "┃\u001b[1m \u001b[0m\u001b[1mLayer (type)                   \u001b[0m\u001b[1m \u001b[0m┃\u001b[1m \u001b[0m\u001b[1mOutput Shape          \u001b[0m\u001b[1m \u001b[0m┃\u001b[1m \u001b[0m\u001b[1m      Param #\u001b[0m\u001b[1m \u001b[0m┃\n",
       "┡━━━━━━━━━━━━━━━━━━━━━━━━━━━━━━━━━╇━━━━━━━━━━━━━━━━━━━━━━━━╇━━━━━━━━━━━━━━━┩\n",
       "│ dense (\u001b[38;5;33mDense\u001b[0m)                   │ (\u001b[38;5;45mNone\u001b[0m, \u001b[38;5;34m256\u001b[0m)            │       \u001b[38;5;34m200,960\u001b[0m │\n",
       "├─────────────────────────────────┼────────────────────────┼───────────────┤\n",
       "│ dense_1 (\u001b[38;5;33mDense\u001b[0m)                 │ (\u001b[38;5;45mNone\u001b[0m, \u001b[38;5;34m128\u001b[0m)            │        \u001b[38;5;34m32,896\u001b[0m │\n",
       "├─────────────────────────────────┼────────────────────────┼───────────────┤\n",
       "│ dense_2 (\u001b[38;5;33mDense\u001b[0m)                 │ (\u001b[38;5;45mNone\u001b[0m, \u001b[38;5;34m10\u001b[0m)             │         \u001b[38;5;34m1,290\u001b[0m │\n",
       "└─────────────────────────────────┴────────────────────────┴───────────────┘\n"
      ]
     },
     "metadata": {},
     "output_type": "display_data"
    },
    {
     "data": {
      "text/html": [
       "<pre style=\"white-space:pre;overflow-x:auto;line-height:normal;font-family:Menlo,'DejaVu Sans Mono',consolas,'Courier New',monospace\"><span style=\"font-weight: bold\"> Total params: </span><span style=\"color: #00af00; text-decoration-color: #00af00\">235,146</span> (918.54 KB)\n",
       "</pre>\n"
      ],
      "text/plain": [
       "\u001b[1m Total params: \u001b[0m\u001b[38;5;34m235,146\u001b[0m (918.54 KB)\n"
      ]
     },
     "metadata": {},
     "output_type": "display_data"
    },
    {
     "data": {
      "text/html": [
       "<pre style=\"white-space:pre;overflow-x:auto;line-height:normal;font-family:Menlo,'DejaVu Sans Mono',consolas,'Courier New',monospace\"><span style=\"font-weight: bold\"> Trainable params: </span><span style=\"color: #00af00; text-decoration-color: #00af00\">235,146</span> (918.54 KB)\n",
       "</pre>\n"
      ],
      "text/plain": [
       "\u001b[1m Trainable params: \u001b[0m\u001b[38;5;34m235,146\u001b[0m (918.54 KB)\n"
      ]
     },
     "metadata": {},
     "output_type": "display_data"
    },
    {
     "data": {
      "text/html": [
       "<pre style=\"white-space:pre;overflow-x:auto;line-height:normal;font-family:Menlo,'DejaVu Sans Mono',consolas,'Courier New',monospace\"><span style=\"font-weight: bold\"> Non-trainable params: </span><span style=\"color: #00af00; text-decoration-color: #00af00\">0</span> (0.00 B)\n",
       "</pre>\n"
      ],
      "text/plain": [
       "\u001b[1m Non-trainable params: \u001b[0m\u001b[38;5;34m0\u001b[0m (0.00 B)\n"
      ]
     },
     "metadata": {},
     "output_type": "display_data"
    }
   ],
   "source": [
    "model.summary()"
   ]
  },
  {
   "cell_type": "markdown",
   "id": "e150a3c0-21f2-46bc-a04d-9494b05b51da",
   "metadata": {},
   "source": [
    "Compile and train"
   ]
  },
  {
   "cell_type": "code",
   "execution_count": 33,
   "id": "9289cb58-69f4-4801-9dd4-696003dfe949",
   "metadata": {},
   "outputs": [],
   "source": [
    "model.compile(\n",
    "    loss=\"sparse_categorical_crossentropy\", optimizer=\"sgd\", metrics=[\"accuracy\"]\n",
    ")"
   ]
  },
  {
   "cell_type": "code",
   "execution_count": 34,
   "id": "5f99a329-b6fe-4e4a-b1ce-8042c6a1a382",
   "metadata": {},
   "outputs": [],
   "source": [
    "callbacks = [keras.callbacks.EarlyStopping(patience=10, restore_best_weights=True, verbose=1)]"
   ]
  },
  {
   "cell_type": "code",
   "execution_count": 35,
   "id": "c30ffc19-05d7-4cf2-8f57-f9b57afe9d5a",
   "metadata": {},
   "outputs": [
    {
     "name": "stdout",
     "output_type": "stream",
     "text": [
      "Epoch 1/100\n",
      "\u001b[1m1563/1563\u001b[0m \u001b[32m━━━━━━━━━━━━━━━━━━━━\u001b[0m\u001b[37m\u001b[0m \u001b[1m2s\u001b[0m 1ms/step - accuracy: 0.7177 - loss: 1.0669 - val_accuracy: 0.9093 - val_loss: 0.3249\n",
      "Epoch 2/100\n",
      "\u001b[1m1563/1563\u001b[0m \u001b[32m━━━━━━━━━━━━━━━━━━━━\u001b[0m\u001b[37m\u001b[0m \u001b[1m2s\u001b[0m 1ms/step - accuracy: 0.9093 - loss: 0.3175 - val_accuracy: 0.9282 - val_loss: 0.2516\n",
      "Epoch 3/100\n",
      "\u001b[1m1563/1563\u001b[0m \u001b[32m━━━━━━━━━━━━━━━━━━━━\u001b[0m\u001b[37m\u001b[0m \u001b[1m2s\u001b[0m 1ms/step - accuracy: 0.9278 - loss: 0.2555 - val_accuracy: 0.9388 - val_loss: 0.2199\n",
      "Epoch 4/100\n",
      "\u001b[1m1563/1563\u001b[0m \u001b[32m━━━━━━━━━━━━━━━━━━━━\u001b[0m\u001b[37m\u001b[0m \u001b[1m2s\u001b[0m 1ms/step - accuracy: 0.9375 - loss: 0.2193 - val_accuracy: 0.9459 - val_loss: 0.1947\n",
      "Epoch 5/100\n",
      "\u001b[1m1563/1563\u001b[0m \u001b[32m━━━━━━━━━━━━━━━━━━━━\u001b[0m\u001b[37m\u001b[0m \u001b[1m2s\u001b[0m 1ms/step - accuracy: 0.9424 - loss: 0.1962 - val_accuracy: 0.9520 - val_loss: 0.1736\n",
      "Epoch 6/100\n",
      "\u001b[1m1563/1563\u001b[0m \u001b[32m━━━━━━━━━━━━━━━━━━━━\u001b[0m\u001b[37m\u001b[0m \u001b[1m2s\u001b[0m 1ms/step - accuracy: 0.9497 - loss: 0.1755 - val_accuracy: 0.9570 - val_loss: 0.1600\n",
      "Epoch 7/100\n",
      "\u001b[1m1563/1563\u001b[0m \u001b[32m━━━━━━━━━━━━━━━━━━━━\u001b[0m\u001b[37m\u001b[0m \u001b[1m2s\u001b[0m 1ms/step - accuracy: 0.9575 - loss: 0.1537 - val_accuracy: 0.9579 - val_loss: 0.1531\n",
      "Epoch 8/100\n",
      "\u001b[1m1563/1563\u001b[0m \u001b[32m━━━━━━━━━━━━━━━━━━━━\u001b[0m\u001b[37m\u001b[0m \u001b[1m2s\u001b[0m 1ms/step - accuracy: 0.9608 - loss: 0.1386 - val_accuracy: 0.9623 - val_loss: 0.1383\n",
      "Epoch 9/100\n",
      "\u001b[1m1563/1563\u001b[0m \u001b[32m━━━━━━━━━━━━━━━━━━━━\u001b[0m\u001b[37m\u001b[0m \u001b[1m2s\u001b[0m 1ms/step - accuracy: 0.9641 - loss: 0.1308 - val_accuracy: 0.9643 - val_loss: 0.1319\n",
      "Epoch 10/100\n",
      "\u001b[1m1563/1563\u001b[0m \u001b[32m━━━━━━━━━━━━━━━━━━━━\u001b[0m\u001b[37m\u001b[0m \u001b[1m2s\u001b[0m 1ms/step - accuracy: 0.9675 - loss: 0.1181 - val_accuracy: 0.9645 - val_loss: 0.1281\n",
      "Epoch 11/100\n",
      "\u001b[1m1563/1563\u001b[0m \u001b[32m━━━━━━━━━━━━━━━━━━━━\u001b[0m\u001b[37m\u001b[0m \u001b[1m2s\u001b[0m 1ms/step - accuracy: 0.9693 - loss: 0.1079 - val_accuracy: 0.9659 - val_loss: 0.1201\n",
      "Epoch 12/100\n",
      "\u001b[1m1563/1563\u001b[0m \u001b[32m━━━━━━━━━━━━━━━━━━━━\u001b[0m\u001b[37m\u001b[0m \u001b[1m2s\u001b[0m 1ms/step - accuracy: 0.9719 - loss: 0.0993 - val_accuracy: 0.9673 - val_loss: 0.1131\n",
      "Epoch 13/100\n",
      "\u001b[1m1563/1563\u001b[0m \u001b[32m━━━━━━━━━━━━━━━━━━━━\u001b[0m\u001b[37m\u001b[0m \u001b[1m2s\u001b[0m 1ms/step - accuracy: 0.9743 - loss: 0.0924 - val_accuracy: 0.9686 - val_loss: 0.1097\n",
      "Epoch 14/100\n",
      "\u001b[1m1563/1563\u001b[0m \u001b[32m━━━━━━━━━━━━━━━━━━━━\u001b[0m\u001b[37m\u001b[0m \u001b[1m2s\u001b[0m 1ms/step - accuracy: 0.9773 - loss: 0.0849 - val_accuracy: 0.9692 - val_loss: 0.1096\n",
      "Epoch 15/100\n",
      "\u001b[1m1563/1563\u001b[0m \u001b[32m━━━━━━━━━━━━━━━━━━━━\u001b[0m\u001b[37m\u001b[0m \u001b[1m3s\u001b[0m 1ms/step - accuracy: 0.9777 - loss: 0.0820 - val_accuracy: 0.9706 - val_loss: 0.1031\n",
      "Epoch 16/100\n",
      "\u001b[1m1563/1563\u001b[0m \u001b[32m━━━━━━━━━━━━━━━━━━━━\u001b[0m\u001b[37m\u001b[0m \u001b[1m2s\u001b[0m 1ms/step - accuracy: 0.9784 - loss: 0.0779 - val_accuracy: 0.9717 - val_loss: 0.0995\n",
      "Epoch 17/100\n",
      "\u001b[1m1563/1563\u001b[0m \u001b[32m━━━━━━━━━━━━━━━━━━━━\u001b[0m\u001b[37m\u001b[0m \u001b[1m2s\u001b[0m 1ms/step - accuracy: 0.9804 - loss: 0.0703 - val_accuracy: 0.9720 - val_loss: 0.0969\n",
      "Epoch 18/100\n",
      "\u001b[1m1563/1563\u001b[0m \u001b[32m━━━━━━━━━━━━━━━━━━━━\u001b[0m\u001b[37m\u001b[0m \u001b[1m2s\u001b[0m 1ms/step - accuracy: 0.9816 - loss: 0.0675 - val_accuracy: 0.9731 - val_loss: 0.0940\n",
      "Epoch 19/100\n",
      "\u001b[1m1563/1563\u001b[0m \u001b[32m━━━━━━━━━━━━━━━━━━━━\u001b[0m\u001b[37m\u001b[0m \u001b[1m2s\u001b[0m 1ms/step - accuracy: 0.9835 - loss: 0.0609 - val_accuracy: 0.9740 - val_loss: 0.0918\n",
      "Epoch 20/100\n",
      "\u001b[1m1563/1563\u001b[0m \u001b[32m━━━━━━━━━━━━━━━━━━━━\u001b[0m\u001b[37m\u001b[0m \u001b[1m2s\u001b[0m 1ms/step - accuracy: 0.9852 - loss: 0.0568 - val_accuracy: 0.9736 - val_loss: 0.0914\n",
      "Epoch 21/100\n",
      "\u001b[1m1563/1563\u001b[0m \u001b[32m━━━━━━━━━━━━━━━━━━━━\u001b[0m\u001b[37m\u001b[0m \u001b[1m2s\u001b[0m 1ms/step - accuracy: 0.9865 - loss: 0.0520 - val_accuracy: 0.9737 - val_loss: 0.0920\n",
      "Epoch 22/100\n",
      "\u001b[1m1563/1563\u001b[0m \u001b[32m━━━━━━━━━━━━━━━━━━━━\u001b[0m\u001b[37m\u001b[0m \u001b[1m2s\u001b[0m 1ms/step - accuracy: 0.9860 - loss: 0.0531 - val_accuracy: 0.9746 - val_loss: 0.0883\n",
      "Epoch 23/100\n",
      "\u001b[1m1563/1563\u001b[0m \u001b[32m━━━━━━━━━━━━━━━━━━━━\u001b[0m\u001b[37m\u001b[0m \u001b[1m2s\u001b[0m 1ms/step - accuracy: 0.9868 - loss: 0.0511 - val_accuracy: 0.9743 - val_loss: 0.0876\n",
      "Epoch 24/100\n",
      "\u001b[1m1563/1563\u001b[0m \u001b[32m━━━━━━━━━━━━━━━━━━━━\u001b[0m\u001b[37m\u001b[0m \u001b[1m2s\u001b[0m 1ms/step - accuracy: 0.9877 - loss: 0.0467 - val_accuracy: 0.9750 - val_loss: 0.0872\n",
      "Epoch 25/100\n",
      "\u001b[1m1563/1563\u001b[0m \u001b[32m━━━━━━━━━━━━━━━━━━━━\u001b[0m\u001b[37m\u001b[0m \u001b[1m3s\u001b[0m 1ms/step - accuracy: 0.9888 - loss: 0.0427 - val_accuracy: 0.9743 - val_loss: 0.0873\n",
      "Epoch 26/100\n",
      "\u001b[1m1563/1563\u001b[0m \u001b[32m━━━━━━━━━━━━━━━━━━━━\u001b[0m\u001b[37m\u001b[0m \u001b[1m2s\u001b[0m 1ms/step - accuracy: 0.9891 - loss: 0.0426 - val_accuracy: 0.9761 - val_loss: 0.0833\n",
      "Epoch 27/100\n",
      "\u001b[1m1563/1563\u001b[0m \u001b[32m━━━━━━━━━━━━━━━━━━━━\u001b[0m\u001b[37m\u001b[0m \u001b[1m2s\u001b[0m 1ms/step - accuracy: 0.9911 - loss: 0.0367 - val_accuracy: 0.9768 - val_loss: 0.0815\n",
      "Epoch 28/100\n",
      "\u001b[1m1563/1563\u001b[0m \u001b[32m━━━━━━━━━━━━━━━━━━━━\u001b[0m\u001b[37m\u001b[0m \u001b[1m2s\u001b[0m 1ms/step - accuracy: 0.9914 - loss: 0.0356 - val_accuracy: 0.9765 - val_loss: 0.0826\n",
      "Epoch 29/100\n",
      "\u001b[1m1563/1563\u001b[0m \u001b[32m━━━━━━━━━━━━━━━━━━━━\u001b[0m\u001b[37m\u001b[0m \u001b[1m2s\u001b[0m 1ms/step - accuracy: 0.9911 - loss: 0.0364 - val_accuracy: 0.9773 - val_loss: 0.0808\n",
      "Epoch 30/100\n",
      "\u001b[1m1563/1563\u001b[0m \u001b[32m━━━━━━━━━━━━━━━━━━━━\u001b[0m\u001b[37m\u001b[0m \u001b[1m2s\u001b[0m 1ms/step - accuracy: 0.9928 - loss: 0.0330 - val_accuracy: 0.9750 - val_loss: 0.0838\n",
      "Epoch 31/100\n",
      "\u001b[1m1563/1563\u001b[0m \u001b[32m━━━━━━━━━━━━━━━━━━━━\u001b[0m\u001b[37m\u001b[0m \u001b[1m2s\u001b[0m 1ms/step - accuracy: 0.9924 - loss: 0.0324 - val_accuracy: 0.9777 - val_loss: 0.0795\n",
      "Epoch 32/100\n",
      "\u001b[1m1563/1563\u001b[0m \u001b[32m━━━━━━━━━━━━━━━━━━━━\u001b[0m\u001b[37m\u001b[0m \u001b[1m2s\u001b[0m 1ms/step - accuracy: 0.9935 - loss: 0.0309 - val_accuracy: 0.9767 - val_loss: 0.0791\n",
      "Epoch 33/100\n",
      "\u001b[1m1563/1563\u001b[0m \u001b[32m━━━━━━━━━━━━━━━━━━━━\u001b[0m\u001b[37m\u001b[0m \u001b[1m2s\u001b[0m 1ms/step - accuracy: 0.9937 - loss: 0.0281 - val_accuracy: 0.9779 - val_loss: 0.0791\n",
      "Epoch 34/100\n",
      "\u001b[1m1563/1563\u001b[0m \u001b[32m━━━━━━━━━━━━━━━━━━━━\u001b[0m\u001b[37m\u001b[0m \u001b[1m2s\u001b[0m 1ms/step - accuracy: 0.9941 - loss: 0.0275 - val_accuracy: 0.9766 - val_loss: 0.0783\n",
      "Epoch 35/100\n",
      "\u001b[1m1563/1563\u001b[0m \u001b[32m━━━━━━━━━━━━━━━━━━━━\u001b[0m\u001b[37m\u001b[0m \u001b[1m2s\u001b[0m 1ms/step - accuracy: 0.9949 - loss: 0.0265 - val_accuracy: 0.9776 - val_loss: 0.0780\n",
      "Epoch 36/100\n",
      "\u001b[1m1563/1563\u001b[0m \u001b[32m━━━━━━━━━━━━━━━━━━━━\u001b[0m\u001b[37m\u001b[0m \u001b[1m2s\u001b[0m 1ms/step - accuracy: 0.9943 - loss: 0.0253 - val_accuracy: 0.9786 - val_loss: 0.0789\n",
      "Epoch 37/100\n",
      "\u001b[1m1563/1563\u001b[0m \u001b[32m━━━━━━━━━━━━━━━━━━━━\u001b[0m\u001b[37m\u001b[0m \u001b[1m2s\u001b[0m 1ms/step - accuracy: 0.9956 - loss: 0.0224 - val_accuracy: 0.9785 - val_loss: 0.0777\n",
      "Epoch 38/100\n",
      "\u001b[1m1563/1563\u001b[0m \u001b[32m━━━━━━━━━━━━━━━━━━━━\u001b[0m\u001b[37m\u001b[0m \u001b[1m2s\u001b[0m 1ms/step - accuracy: 0.9960 - loss: 0.0225 - val_accuracy: 0.9786 - val_loss: 0.0778\n",
      "Epoch 39/100\n",
      "\u001b[1m1563/1563\u001b[0m \u001b[32m━━━━━━━━━━━━━━━━━━━━\u001b[0m\u001b[37m\u001b[0m \u001b[1m2s\u001b[0m 1ms/step - accuracy: 0.9964 - loss: 0.0200 - val_accuracy: 0.9784 - val_loss: 0.0782\n",
      "Epoch 40/100\n",
      "\u001b[1m1563/1563\u001b[0m \u001b[32m━━━━━━━━━━━━━━━━━━━━\u001b[0m\u001b[37m\u001b[0m \u001b[1m2s\u001b[0m 1ms/step - accuracy: 0.9972 - loss: 0.0184 - val_accuracy: 0.9781 - val_loss: 0.0769\n",
      "Epoch 41/100\n",
      "\u001b[1m1563/1563\u001b[0m \u001b[32m━━━━━━━━━━━━━━━━━━━━\u001b[0m\u001b[37m\u001b[0m \u001b[1m2s\u001b[0m 1ms/step - accuracy: 0.9968 - loss: 0.0192 - val_accuracy: 0.9780 - val_loss: 0.0780\n",
      "Epoch 42/100\n",
      "\u001b[1m1563/1563\u001b[0m \u001b[32m━━━━━━━━━━━━━━━━━━━━\u001b[0m\u001b[37m\u001b[0m \u001b[1m2s\u001b[0m 1ms/step - accuracy: 0.9974 - loss: 0.0174 - val_accuracy: 0.9786 - val_loss: 0.0781\n",
      "Epoch 43/100\n",
      "\u001b[1m1563/1563\u001b[0m \u001b[32m━━━━━━━━━━━━━━━━━━━━\u001b[0m\u001b[37m\u001b[0m \u001b[1m2s\u001b[0m 1ms/step - accuracy: 0.9974 - loss: 0.0173 - val_accuracy: 0.9782 - val_loss: 0.0775\n",
      "Epoch 44/100\n",
      "\u001b[1m1563/1563\u001b[0m \u001b[32m━━━━━━━━━━━━━━━━━━━━\u001b[0m\u001b[37m\u001b[0m \u001b[1m2s\u001b[0m 1ms/step - accuracy: 0.9976 - loss: 0.0156 - val_accuracy: 0.9785 - val_loss: 0.0765\n",
      "Epoch 45/100\n",
      "\u001b[1m1563/1563\u001b[0m \u001b[32m━━━━━━━━━━━━━━━━━━━━\u001b[0m\u001b[37m\u001b[0m \u001b[1m2s\u001b[0m 1ms/step - accuracy: 0.9981 - loss: 0.0146 - val_accuracy: 0.9791 - val_loss: 0.0758\n",
      "Epoch 46/100\n",
      "\u001b[1m1563/1563\u001b[0m \u001b[32m━━━━━━━━━━━━━━━━━━━━\u001b[0m\u001b[37m\u001b[0m \u001b[1m2s\u001b[0m 1ms/step - accuracy: 0.9984 - loss: 0.0137 - val_accuracy: 0.9799 - val_loss: 0.0772\n",
      "Epoch 47/100\n",
      "\u001b[1m1563/1563\u001b[0m \u001b[32m━━━━━━━━━━━━━━━━━━━━\u001b[0m\u001b[37m\u001b[0m \u001b[1m2s\u001b[0m 1ms/step - accuracy: 0.9983 - loss: 0.0132 - val_accuracy: 0.9795 - val_loss: 0.0769\n",
      "Epoch 48/100\n",
      "\u001b[1m1563/1563\u001b[0m \u001b[32m━━━━━━━━━━━━━━━━━━━━\u001b[0m\u001b[37m\u001b[0m \u001b[1m2s\u001b[0m 1ms/step - accuracy: 0.9982 - loss: 0.0130 - val_accuracy: 0.9784 - val_loss: 0.0774\n",
      "Epoch 49/100\n",
      "\u001b[1m1563/1563\u001b[0m \u001b[32m━━━━━━━━━━━━━━━━━━━━\u001b[0m\u001b[37m\u001b[0m \u001b[1m2s\u001b[0m 1ms/step - accuracy: 0.9984 - loss: 0.0128 - val_accuracy: 0.9786 - val_loss: 0.0786\n",
      "Epoch 50/100\n",
      "\u001b[1m1563/1563\u001b[0m \u001b[32m━━━━━━━━━━━━━━━━━━━━\u001b[0m\u001b[37m\u001b[0m \u001b[1m2s\u001b[0m 1ms/step - accuracy: 0.9988 - loss: 0.0119 - val_accuracy: 0.9791 - val_loss: 0.0773\n",
      "Epoch 51/100\n",
      "\u001b[1m1563/1563\u001b[0m \u001b[32m━━━━━━━━━━━━━━━━━━━━\u001b[0m\u001b[37m\u001b[0m \u001b[1m2s\u001b[0m 1ms/step - accuracy: 0.9990 - loss: 0.0109 - val_accuracy: 0.9792 - val_loss: 0.0770\n",
      "Epoch 52/100\n",
      "\u001b[1m1563/1563\u001b[0m \u001b[32m━━━━━━━━━━━━━━━━━━━━\u001b[0m\u001b[37m\u001b[0m \u001b[1m2s\u001b[0m 1ms/step - accuracy: 0.9992 - loss: 0.0107 - val_accuracy: 0.9792 - val_loss: 0.0776\n",
      "Epoch 53/100\n",
      "\u001b[1m1563/1563\u001b[0m \u001b[32m━━━━━━━━━━━━━━━━━━━━\u001b[0m\u001b[37m\u001b[0m \u001b[1m2s\u001b[0m 1ms/step - accuracy: 0.9991 - loss: 0.0102 - val_accuracy: 0.9791 - val_loss: 0.0768\n",
      "Epoch 54/100\n",
      "\u001b[1m1563/1563\u001b[0m \u001b[32m━━━━━━━━━━━━━━━━━━━━\u001b[0m\u001b[37m\u001b[0m \u001b[1m2s\u001b[0m 1ms/step - accuracy: 0.9990 - loss: 0.0101 - val_accuracy: 0.9794 - val_loss: 0.0780\n",
      "Epoch 55/100\n",
      "\u001b[1m1563/1563\u001b[0m \u001b[32m━━━━━━━━━━━━━━━━━━━━\u001b[0m\u001b[37m\u001b[0m \u001b[1m3s\u001b[0m 1ms/step - accuracy: 0.9991 - loss: 0.0095 - val_accuracy: 0.9792 - val_loss: 0.0794\n",
      "Epoch 55: early stopping\n",
      "Restoring model weights from the end of the best epoch: 45.\n"
     ]
    }
   ],
   "source": [
    "hist = model.fit(\n",
    "    X_train,\n",
    "    y_train,\n",
    "    epochs=100,\n",
    "    validation_data=(X_valid, y_valid),\n",
    "    callbacks=callbacks,\n",
    "    verbose=1,\n",
    ")"
   ]
  },
  {
   "cell_type": "markdown",
   "id": "cf6f2424-e4f2-4006-a20e-65c503d380d8",
   "metadata": {},
   "source": [
    "Plot train history over time"
   ]
  },
  {
   "cell_type": "code",
   "execution_count": 36,
   "id": "2bbbaebd-231d-4cab-a148-41ab7131688c",
   "metadata": {},
   "outputs": [
    {
     "data": {
      "image/png": "[encoded data removed]",
      "text/plain": [
       "<Figure size 640x480 with 1 Axes>"
      ]
     },
     "metadata": {},
     "output_type": "display_data"
    }
   ],
   "source": [
    "pd.DataFrame(hist.history).plot()\n",
    "plt.grid(True)\n",
    "plt.gca().set_ylim(0, 1)\n",
    "plt.show()"
   ]
  },
  {
   "cell_type": "markdown",
   "id": "bf438c5b-f00d-441f-9dea-fcc7c4bf3c2f",
   "metadata": {},
   "source": [
    "## 2.2. Validate"
   ]
  },
  {
   "cell_type": "markdown",
   "id": "c564e339-fbe4-4b77-bcfc-a93de2694480",
   "metadata": {},
   "source": [
    "### 2.2.1. Metrics"
   ]
  },
  {
   "cell_type": "markdown",
   "id": "d6ba3c27-f737-41da-ab81-7760b5389dec",
   "metadata": {},
   "source": [
    "Compute the predictions per instance"
   ]
  },
  {
   "cell_type": "code",
   "execution_count": 37,
   "id": "ea9a7a1d-113b-480b-b623-3076136653c2",
   "metadata": {},
   "outputs": [
    {
     "name": "stdout",
     "output_type": "stream",
     "text": [
      "\u001b[1m1563/1563\u001b[0m \u001b[32m━━━━━━━━━━━━━━━━━━━━\u001b[0m\u001b[37m\u001b[0m \u001b[1m1s\u001b[0m 654us/step\n"
     ]
    }
   ],
   "source": [
    "preds = model.predict(X_train)"
   ]
  },
  {
   "cell_type": "code",
   "execution_count": 38,
   "id": "e79f6d92-d081-41b1-acd6-49f50e16b1fa",
   "metadata": {},
   "outputs": [
    {
     "data": {
      "text/plain": [
       "np.int64(8)"
      ]
     },
     "execution_count": 38,
     "metadata": {},
     "output_type": "execute_result"
    }
   ],
   "source": [
    "np.argmax(preds[arg])"
   ]
  },
  {
   "cell_type": "code",
   "execution_count": 39,
   "id": "ef952c8d-ac6b-46f0-a58d-0060f50c305a",
   "metadata": {},
   "outputs": [
    {
     "data": {
      "text/plain": [
       "(50000, 10)"
      ]
     },
     "execution_count": 39,
     "metadata": {},
     "output_type": "execute_result"
    }
   ],
   "source": [
    "preds.shape"
   ]
  },
  {
   "cell_type": "code",
   "execution_count": 40,
   "id": "38d024fb-3e27-40f4-b22f-5ce6ed3d9246",
   "metadata": {},
   "outputs": [],
   "source": [
    "preds = np.array([np.argmax(x) for x in preds])"
   ]
  },
  {
   "cell_type": "code",
   "execution_count": 41,
   "id": "bbc5b037-057b-4356-8ef9-04cc7328b1a0",
   "metadata": {},
   "outputs": [
    {
     "data": {
      "text/plain": [
       "(50000,)"
      ]
     },
     "execution_count": 41,
     "metadata": {},
     "output_type": "execute_result"
    }
   ],
   "source": [
    "preds.shape"
   ]
  },
  {
   "cell_type": "markdown",
   "id": "53a2a2b7-779e-416f-9b7f-74ab997360a4",
   "metadata": {},
   "source": [
    "Compute the confusion matrix (tn, fp, fn, tp)"
   ]
  },
  {
   "cell_type": "code",
   "execution_count": 42,
   "id": "86b0545c-7212-4fd3-b1b0-0bb07b553837",
   "metadata": {},
   "outputs": [],
   "source": [
    "from sklearn.metrics import confusion_matrix"
   ]
  },
  {
   "cell_type": "code",
   "execution_count": 43,
   "id": "38ac4f70-0170-4dc4-b58e-f1f656f567ed",
   "metadata": {},
   "outputs": [
    {
     "data": {
      "text/plain": [
       "array([[4932,    0,    0,    0,    0,    0,    0,    0,    0,    0],\n",
       "       [   0, 5678,    0,    0,    0,    0,    0,    0,    0,    0],\n",
       "       [   0,    0, 4968,    0,    0,    0,    0,    0,    0,    0],\n",
       "       [   0,    0,    0, 5101,    0,    0,    0,    0,    0,    0],\n",
       "       [   0,    0,    0,    0, 4859,    0,    0,    0,    0,    0],\n",
       "       [   0,    0,    0,    0,    0, 4506,    0,    0,    0,    0],\n",
       "       [   0,    0,    0,    0,    0,    0, 4951,    0,    0,    0],\n",
       "       [   0,    0,    0,    0,    0,    0,    0, 5175,    0,    0],\n",
       "       [   0,    0,    0,    0,    0,    0,    0,    0, 4842,    0],\n",
       "       [   0,    0,    0,    0,    0,    0,    0,    0,    0, 4988]])"
      ]
     },
     "execution_count": 43,
     "metadata": {},
     "output_type": "execute_result"
    }
   ],
   "source": [
    "matrix = confusion_matrix(y_train, y_train)  # sanity check\n",
    "matrix"
   ]
  },
  {
   "cell_type": "code",
   "execution_count": 44,
   "id": "43793567-6955-4430-a331-e0d21e0bd3d1",
   "metadata": {},
   "outputs": [
    {
     "data": {
      "text/plain": [
       "array([[4927,    0,    0,    0,    0,    0,    3,    0,    1,    1],\n",
       "       [   0, 5663,    3,    1,    3,    0,    0,    5,    2,    1],\n",
       "       [   1,    2, 4958,    0,    0,    0,    0,    4,    3,    0],\n",
       "       [   0,    0,    2, 5090,    0,    1,    0,    1,    3,    4],\n",
       "       [   0,    0,    0,    0, 4856,    0,    1,    0,    0,    2],\n",
       "       [   0,    0,    0,    0,    0, 4504,    1,    0,    0,    1],\n",
       "       [   2,    0,    0,    0,    1,    0, 4947,    0,    1,    0],\n",
       "       [   1,    3,    2,    0,    0,    0,    0, 5168,    0,    1],\n",
       "       [   1,    3,    0,    1,    0,    1,    3,    0, 4832,    1],\n",
       "       [   0,    1,    0,    0,    2,    0,    0,    4,    1, 4980]])"
      ]
     },
     "execution_count": 44,
     "metadata": {},
     "output_type": "execute_result"
    }
   ],
   "source": [
    "matrix = confusion_matrix(y_train, preds)\n",
    "matrix"
   ]
  },
  {
   "cell_type": "code",
   "execution_count": 45,
   "id": "590e714f-4a4a-4f53-986c-ff5b06fefce3",
   "metadata": {},
   "outputs": [
    {
     "data": {
      "image/png": "[encoded data removed]",
      "text/plain": [
       "<Figure size 640x480 with 1 Axes>"
      ]
     },
     "metadata": {},
     "output_type": "display_data"
    }
   ],
   "source": [
    "plt.imshow(matrix, cmap=\"gray\")\n",
    "plt.show()"
   ]
  },
  {
   "cell_type": "markdown",
   "id": "7f37f16e-e5fd-44c8-9038-eff9e1138555",
   "metadata": {},
   "source": [
    "Normalise by the amount of instances and keep erros only"
   ]
  },
  {
   "cell_type": "code",
   "execution_count": 46,
   "id": "aebef1ee-07fa-49a5-b384-35ad005a8127",
   "metadata": {},
   "outputs": [],
   "source": [
    "row_sum = matrix.sum(axis=1, keepdims=True)\n",
    "norm_matrix = matrix / row_sum"
   ]
  },
  {
   "cell_type": "code",
   "execution_count": 47,
   "id": "f45fe661-eb55-4290-a083-5735f1e5cb53",
   "metadata": {},
   "outputs": [
    {
     "data": {
      "image/png": "[encoded data removed]",
      "text/plain": [
       "<Figure size 640x480 with 1 Axes>"
      ]
     },
     "metadata": {},
     "output_type": "display_data"
    }
   ],
   "source": [
    "np.fill_diagonal(norm_matrix, 0)\n",
    "plt.imshow(norm_matrix, cmap=\"gray\")\n",
    "plt.show()"
   ]
  },
  {
   "cell_type": "markdown",
   "id": "504ad378-96f5-4e51-8de4-4c9c85a1da30",
   "metadata": {},
   "source": [
    "Compute metrics for the number 8"
   ]
  },
  {
   "cell_type": "code",
   "execution_count": 48,
   "id": "83017ce3-69f7-4fed-8988-8c15aa08a15c",
   "metadata": {},
   "outputs": [],
   "source": [
    "tp = matrix[8, 8]\n",
    "fn = matrix[8, :].sum() - tp\n",
    "fp = matrix[:, 8].sum() - tp\n",
    "tn = matrix.sum() - (tp + fn + fp)"
   ]
  },
  {
   "cell_type": "code",
   "execution_count": 49,
   "id": "333c6b93-3c03-40d7-a6a4-438847475f27",
   "metadata": {},
   "outputs": [
    {
     "data": {
      "text/plain": [
       "array([[45147,    11],\n",
       "       [   10,  4832]])"
      ]
     },
     "execution_count": 49,
     "metadata": {},
     "output_type": "execute_result"
    }
   ],
   "source": [
    "np.array([[tn, fp], [fn, tp]])"
   ]
  },
  {
   "cell_type": "code",
   "execution_count": 50,
   "id": "ce214543-1c7c-4167-8cd9-82e3e5f354bb",
   "metadata": {},
   "outputs": [],
   "source": [
    "metrics = dict(acc=(tn + tp) / len(y_train), pre=tp / (tp + fp), rec=tp / (tp + fn))\n",
    "metrics[\" f1\"] = (\n",
    "    2 * (metrics[\"pre\"] * metrics[\"rec\"]) / (metrics[\"pre\"] + metrics[\"rec\"])\n",
    ")"
   ]
  },
  {
   "cell_type": "code",
   "execution_count": 51,
   "id": "e083220c-7bd6-4d72-ab8e-f243cb58e385",
   "metadata": {},
   "outputs": [
    {
     "name": "stdout",
     "output_type": "stream",
     "text": [
      "acc 0.99958\n",
      "pre 0.9977286805698947\n",
      "rec 0.9979347377116894\n",
      " f1 0.9978316985028395\n"
     ]
    }
   ],
   "source": [
    "for k in metrics.keys():\n",
    "    print(k, metrics[k])"
   ]
  },
  {
   "cell_type": "markdown",
   "id": "11befb5f-5c5c-4dbf-a75f-939108736eb3",
   "metadata": {},
   "source": [
    "## 2.3. Test"
   ]
  },
  {
   "cell_type": "markdown",
   "id": "51bddf42-e86c-43b4-9e1b-0b14f66a08f0",
   "metadata": {},
   "source": [
    "### 2.3.1. Accuracy"
   ]
  },
  {
   "cell_type": "code",
   "execution_count": 52,
   "id": "b829f287-5dfa-49e5-bc51-9c3c1b44d368",
   "metadata": {},
   "outputs": [
    {
     "name": "stdout",
     "output_type": "stream",
     "text": [
      "\u001b[1m313/313\u001b[0m \u001b[32m━━━━━━━━━━━━━━━━━━━━\u001b[0m\u001b[37m\u001b[0m \u001b[1m0s\u001b[0m 841us/step - accuracy: 0.9767 - loss: 0.0784\n"
     ]
    },
    {
     "data": {
      "text/plain": [
       "[0.07580552250146866, 0.9790999889373779]"
      ]
     },
     "execution_count": 52,
     "metadata": {},
     "output_type": "execute_result"
    }
   ],
   "source": [
    "model.evaluate(X_valid, y_valid)"
   ]
  },
  {
   "cell_type": "code",
   "execution_count": 53,
   "id": "0b6b1592-2d67-4b0d-9b22-b009bd7300ea",
   "metadata": {},
   "outputs": [
    {
     "name": "stdout",
     "output_type": "stream",
     "text": [
      "\u001b[1m313/313\u001b[0m \u001b[32m━━━━━━━━━━━━━━━━━━━━\u001b[0m\u001b[37m\u001b[0m \u001b[1m0s\u001b[0m 748us/step - accuracy: 0.9756 - loss: 0.0813\n"
     ]
    },
    {
     "data": {
      "text/plain": [
       "[0.07004940509796143, 0.9789999723434448]"
      ]
     },
     "execution_count": 53,
     "metadata": {},
     "output_type": "execute_result"
    }
   ],
   "source": [
    "model.evaluate(X_test, y_test)"
   ]
  },
  {
   "cell_type": "markdown",
   "id": "cf3043d6-ba29-481f-a11b-e622cd5171be",
   "metadata": {},
   "source": [
    "### 2.3.2. Metrics"
   ]
  },
  {
   "cell_type": "code",
   "execution_count": 54,
   "id": "0cd94b99-ed33-453f-8a85-5deb59fa838f",
   "metadata": {
    "editable": true,
    "slideshow": {
     "slide_type": ""
    },
    "tags": []
   },
   "outputs": [
    {
     "name": "stdout",
     "output_type": "stream",
     "text": [
      "\u001b[1m313/313\u001b[0m \u001b[32m━━━━━━━━━━━━━━━━━━━━\u001b[0m\u001b[37m\u001b[0m \u001b[1m0s\u001b[0m 659us/step\n"
     ]
    }
   ],
   "source": [
    "preds = model.predict(X_test)"
   ]
  },
  {
   "cell_type": "code",
   "execution_count": 55,
   "id": "fb91a044-144a-47f1-a288-5d7590abb785",
   "metadata": {},
   "outputs": [
    {
     "data": {
      "text/plain": [
       "(10000, 10)"
      ]
     },
     "execution_count": 55,
     "metadata": {},
     "output_type": "execute_result"
    }
   ],
   "source": [
    "preds.shape"
   ]
  },
  {
   "cell_type": "code",
   "execution_count": 56,
   "id": "b2bc2466-96f9-489c-863a-4f846c58e28b",
   "metadata": {},
   "outputs": [],
   "source": [
    "preds = np.array([np.argmax(x) for x in preds])"
   ]
  },
  {
   "cell_type": "code",
   "execution_count": 57,
   "id": "1a35330c-59b7-4e63-be57-a1b8b9e7f469",
   "metadata": {},
   "outputs": [
    {
     "data": {
      "text/plain": [
       "(10000,)"
      ]
     },
     "execution_count": 57,
     "metadata": {},
     "output_type": "execute_result"
    }
   ],
   "source": [
    "preds.shape"
   ]
  },
  {
   "cell_type": "code",
   "execution_count": 58,
   "id": "ddc743fb-4833-4564-aa4a-a4454483a34f",
   "metadata": {},
   "outputs": [
    {
     "data": {
      "text/plain": [
       "array([[ 970,    0,    1,    1,    1,    0,    2,    1,    3,    1],\n",
       "       [   0, 1126,    3,    0,    0,    1,    2,    1,    2,    0],\n",
       "       [   6,    1, 1009,    2,    3,    0,    2,    4,    5,    0],\n",
       "       [   0,    0,    4,  988,    0,    5,    0,    4,    4,    5],\n",
       "       [   1,    0,    1,    1,  958,    0,    6,    1,    1,   13],\n",
       "       [   3,    0,    0,    6,    2,  865,    8,    1,    5,    2],\n",
       "       [   5,    2,    1,    1,    2,    4,  942,    0,    1,    0],\n",
       "       [   0,    4,    8,    2,    0,    0,    0, 1008,    2,    4],\n",
       "       [   4,    0,    4,    6,    2,    2,    5,    2,  946,    3],\n",
       "       [   4,    3,    0,    6,    9,    3,    0,    4,    2,  978]])"
      ]
     },
     "execution_count": 58,
     "metadata": {},
     "output_type": "execute_result"
    }
   ],
   "source": [
    "matrix = confusion_matrix(y_test, preds)\n",
    "matrix"
   ]
  },
  {
   "cell_type": "code",
   "execution_count": 59,
   "id": "c412e51e-4897-4a57-bdbf-6e50b01d7089",
   "metadata": {},
   "outputs": [
    {
     "data": {
      "image/png": "[encoded data removed]",
      "text/plain": [
       "<Figure size 640x480 with 1 Axes>"
      ]
     },
     "metadata": {},
     "output_type": "display_data"
    }
   ],
   "source": [
    "plt.imshow(matrix, cmap=\"gray\")\n",
    "plt.show()"
   ]
  },
  {
   "cell_type": "code",
   "execution_count": 60,
   "id": "10977a0f-8112-4e4a-9b3c-2e55c06fa80e",
   "metadata": {},
   "outputs": [],
   "source": [
    "row_sum = matrix.sum(axis=1, keepdims=True)\n",
    "norm_matrix = matrix / row_sum"
   ]
  },
  {
   "cell_type": "code",
   "execution_count": 61,
   "id": "0ae467f9-1a50-457d-951a-a841b70be644",
   "metadata": {},
   "outputs": [
    {
     "data": {
      "image/png": "[encoded data removed]",
      "text/plain": [
       "<Figure size 640x480 with 1 Axes>"
      ]
     },
     "metadata": {},
     "output_type": "display_data"
    }
   ],
   "source": [
    "np.fill_diagonal(norm_matrix, 0)\n",
    "plt.imshow(norm_matrix, cmap=\"gray\")\n",
    "plt.show()"
   ]
  },
  {
   "cell_type": "markdown",
   "id": "e57ba576-01ad-4f5e-b4ca-d2ef3b83c045",
   "metadata": {},
   "source": [
    "Compute metrics for the number 8"
   ]
  },
  {
   "cell_type": "code",
   "execution_count": 62,
   "id": "05a58af1-ed14-4548-9a5c-d2e8e706d3c2",
   "metadata": {},
   "outputs": [],
   "source": [
    "tp = matrix[8, 8]\n",
    "fn = matrix[8, :].sum() - tp\n",
    "fp = matrix[:, 8].sum() - tp\n",
    "tn = matrix.sum() - (tp + fn + fp)"
   ]
  },
  {
   "cell_type": "code",
   "execution_count": 63,
   "id": "33e9ad29-0ed3-4327-b1ef-e77dd5d33174",
   "metadata": {},
   "outputs": [
    {
     "data": {
      "text/plain": [
       "array([[9001,   25],\n",
       "       [  28,  946]])"
      ]
     },
     "execution_count": 63,
     "metadata": {},
     "output_type": "execute_result"
    }
   ],
   "source": [
    "np.array([[tn, fp], [fn, tp]])"
   ]
  },
  {
   "cell_type": "code",
   "execution_count": 64,
   "id": "458ccae4-c674-48e3-a91a-69ac02f5a376",
   "metadata": {},
   "outputs": [],
   "source": [
    "metrics = dict(acc=(tn + tp) / len(y_test), pre=tp / (tp + fp), rec=tp / (tp + fn))\n",
    "metrics[\" f1\"] = (\n",
    "    2 * (metrics[\"pre\"] * metrics[\"rec\"]) / (metrics[\"pre\"] + metrics[\"rec\"])\n",
    ")"
   ]
  },
  {
   "cell_type": "code",
   "execution_count": 65,
   "id": "1a636e81-2735-4d95-b18a-058e5de3aa44",
   "metadata": {},
   "outputs": [
    {
     "name": "stdout",
     "output_type": "stream",
     "text": [
      "acc 0.9947\n",
      "pre 0.9742533470648815\n",
      "rec 0.971252566735113\n",
      " f1 0.9727506426735218\n"
     ]
    }
   ],
   "source": [
    "for k in metrics.keys():\n",
    "    print(k, metrics[k])"
   ]
  }
 ],
 "metadata": {
  "kernelspec": {
   "display_name": "Python 3 (ipykernel)",
   "language": "python",
   "name": "python3"
  },
  "language_info": {
   "codemirror_mode": {
    "name": "ipython",
    "version": 3
   },
   "file_extension": ".py",
   "mimetype": "text/x-python",
   "name": "python",
   "nbconvert_exporter": "python",
   "pygments_lexer": "ipython3",
   "version": "3.9.20"
  }
 },
 "nbformat": 4,
 "nbformat_minor": 5
}
