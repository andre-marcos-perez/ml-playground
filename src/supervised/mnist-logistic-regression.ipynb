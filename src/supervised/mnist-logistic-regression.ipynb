{
 "cells": [
  {
   "cell_type": "code",
   "execution_count": 1,
   "id": "38fe9913-9f9e-4d7a-abe6-3e532718b4be",
   "metadata": {},
   "outputs": [],
   "source": [
    "import numpy as np\n",
    "import pandas as pd"
   ]
  },
  {
   "cell_type": "markdown",
   "id": "ffad3861-8265-4db7-a237-e2084dd91ab5",
   "metadata": {},
   "source": [
    "# 1. Data"
   ]
  },
  {
   "cell_type": "code",
   "execution_count": 2,
   "id": "a5e42370-6e89-4f7b-b1c4-d6012feaf449",
   "metadata": {},
   "outputs": [],
   "source": [
    "from sklearn.datasets import fetch_openml"
   ]
  },
  {
   "cell_type": "code",
   "execution_count": 3,
   "id": "68db0441-4944-427c-87bf-160af614189e",
   "metadata": {},
   "outputs": [
    {
     "data": {
      "text/plain": [
       "dict_keys(['data', 'target', 'frame', 'categories', 'feature_names', 'target_names', 'DESCR', 'details', 'url'])"
      ]
     },
     "execution_count": 3,
     "metadata": {},
     "output_type": "execute_result"
    }
   ],
   "source": [
    "dataset = fetch_openml(\"mnist_784\", version=1)\n",
    "dataset.keys()"
   ]
  },
  {
   "cell_type": "markdown",
   "id": "fbcffe82-f2d1-472c-afcc-b4cdc49a387f",
   "metadata": {},
   "source": [
    "## 1.1. Features"
   ]
  },
  {
   "cell_type": "code",
   "execution_count": 4,
   "id": "d8117e39-87c4-47c6-875c-6595a6c71b8f",
   "metadata": {},
   "outputs": [],
   "source": [
    "X: pd.DataFrame = dataset[\"data\"]"
   ]
  },
  {
   "cell_type": "code",
   "execution_count": 5,
   "id": "264ea155-57b5-465f-bf04-b22c442272c7",
   "metadata": {},
   "outputs": [
    {
     "data": {
      "text/plain": [
       "(70000, 784)"
      ]
     },
     "execution_count": 5,
     "metadata": {},
     "output_type": "execute_result"
    }
   ],
   "source": [
    "X.shape"
   ]
  },
  {
   "cell_type": "code",
   "execution_count": 6,
   "id": "a1829737-4007-455e-ae92-686c491ad96e",
   "metadata": {},
   "outputs": [
    {
     "data": {
      "text/html": [
       "<div>\n",
       "<style scoped>\n",
       "    .dataframe tbody tr th:only-of-type {\n",
       "        vertical-align: middle;\n",
       "    }\n",
       "\n",
       "    .dataframe tbody tr th {\n",
       "        vertical-align: top;\n",
       "    }\n",
       "\n",
       "    .dataframe thead th {\n",
       "        text-align: right;\n",
       "    }\n",
       "</style>\n",
       "<table border=\"1\" class=\"dataframe\">\n",
       "  <thead>\n",
       "    <tr style=\"text-align: right;\">\n",
       "      <th></th>\n",
       "      <th>pixel1</th>\n",
       "      <th>pixel2</th>\n",
       "      <th>pixel3</th>\n",
       "      <th>pixel4</th>\n",
       "      <th>pixel5</th>\n",
       "      <th>pixel6</th>\n",
       "      <th>pixel7</th>\n",
       "      <th>pixel8</th>\n",
       "      <th>pixel9</th>\n",
       "      <th>pixel10</th>\n",
       "      <th>...</th>\n",
       "      <th>pixel775</th>\n",
       "      <th>pixel776</th>\n",
       "      <th>pixel777</th>\n",
       "      <th>pixel778</th>\n",
       "      <th>pixel779</th>\n",
       "      <th>pixel780</th>\n",
       "      <th>pixel781</th>\n",
       "      <th>pixel782</th>\n",
       "      <th>pixel783</th>\n",
       "      <th>pixel784</th>\n",
       "    </tr>\n",
       "  </thead>\n",
       "  <tbody>\n",
       "    <tr>\n",
       "      <th>0</th>\n",
       "      <td>0</td>\n",
       "      <td>0</td>\n",
       "      <td>0</td>\n",
       "      <td>0</td>\n",
       "      <td>0</td>\n",
       "      <td>0</td>\n",
       "      <td>0</td>\n",
       "      <td>0</td>\n",
       "      <td>0</td>\n",
       "      <td>0</td>\n",
       "      <td>...</td>\n",
       "      <td>0</td>\n",
       "      <td>0</td>\n",
       "      <td>0</td>\n",
       "      <td>0</td>\n",
       "      <td>0</td>\n",
       "      <td>0</td>\n",
       "      <td>0</td>\n",
       "      <td>0</td>\n",
       "      <td>0</td>\n",
       "      <td>0</td>\n",
       "    </tr>\n",
       "    <tr>\n",
       "      <th>1</th>\n",
       "      <td>0</td>\n",
       "      <td>0</td>\n",
       "      <td>0</td>\n",
       "      <td>0</td>\n",
       "      <td>0</td>\n",
       "      <td>0</td>\n",
       "      <td>0</td>\n",
       "      <td>0</td>\n",
       "      <td>0</td>\n",
       "      <td>0</td>\n",
       "      <td>...</td>\n",
       "      <td>0</td>\n",
       "      <td>0</td>\n",
       "      <td>0</td>\n",
       "      <td>0</td>\n",
       "      <td>0</td>\n",
       "      <td>0</td>\n",
       "      <td>0</td>\n",
       "      <td>0</td>\n",
       "      <td>0</td>\n",
       "      <td>0</td>\n",
       "    </tr>\n",
       "    <tr>\n",
       "      <th>2</th>\n",
       "      <td>0</td>\n",
       "      <td>0</td>\n",
       "      <td>0</td>\n",
       "      <td>0</td>\n",
       "      <td>0</td>\n",
       "      <td>0</td>\n",
       "      <td>0</td>\n",
       "      <td>0</td>\n",
       "      <td>0</td>\n",
       "      <td>0</td>\n",
       "      <td>...</td>\n",
       "      <td>0</td>\n",
       "      <td>0</td>\n",
       "      <td>0</td>\n",
       "      <td>0</td>\n",
       "      <td>0</td>\n",
       "      <td>0</td>\n",
       "      <td>0</td>\n",
       "      <td>0</td>\n",
       "      <td>0</td>\n",
       "      <td>0</td>\n",
       "    </tr>\n",
       "    <tr>\n",
       "      <th>3</th>\n",
       "      <td>0</td>\n",
       "      <td>0</td>\n",
       "      <td>0</td>\n",
       "      <td>0</td>\n",
       "      <td>0</td>\n",
       "      <td>0</td>\n",
       "      <td>0</td>\n",
       "      <td>0</td>\n",
       "      <td>0</td>\n",
       "      <td>0</td>\n",
       "      <td>...</td>\n",
       "      <td>0</td>\n",
       "      <td>0</td>\n",
       "      <td>0</td>\n",
       "      <td>0</td>\n",
       "      <td>0</td>\n",
       "      <td>0</td>\n",
       "      <td>0</td>\n",
       "      <td>0</td>\n",
       "      <td>0</td>\n",
       "      <td>0</td>\n",
       "    </tr>\n",
       "    <tr>\n",
       "      <th>4</th>\n",
       "      <td>0</td>\n",
       "      <td>0</td>\n",
       "      <td>0</td>\n",
       "      <td>0</td>\n",
       "      <td>0</td>\n",
       "      <td>0</td>\n",
       "      <td>0</td>\n",
       "      <td>0</td>\n",
       "      <td>0</td>\n",
       "      <td>0</td>\n",
       "      <td>...</td>\n",
       "      <td>0</td>\n",
       "      <td>0</td>\n",
       "      <td>0</td>\n",
       "      <td>0</td>\n",
       "      <td>0</td>\n",
       "      <td>0</td>\n",
       "      <td>0</td>\n",
       "      <td>0</td>\n",
       "      <td>0</td>\n",
       "      <td>0</td>\n",
       "    </tr>\n",
       "  </tbody>\n",
       "</table>\n",
       "<p>5 rows × 784 columns</p>\n",
       "</div>"
      ],
      "text/plain": [
       "   pixel1  pixel2  pixel3  pixel4  pixel5  pixel6  pixel7  pixel8  pixel9  \\\n",
       "0       0       0       0       0       0       0       0       0       0   \n",
       "1       0       0       0       0       0       0       0       0       0   \n",
       "2       0       0       0       0       0       0       0       0       0   \n",
       "3       0       0       0       0       0       0       0       0       0   \n",
       "4       0       0       0       0       0       0       0       0       0   \n",
       "\n",
       "   pixel10  ...  pixel775  pixel776  pixel777  pixel778  pixel779  pixel780  \\\n",
       "0        0  ...         0         0         0         0         0         0   \n",
       "1        0  ...         0         0         0         0         0         0   \n",
       "2        0  ...         0         0         0         0         0         0   \n",
       "3        0  ...         0         0         0         0         0         0   \n",
       "4        0  ...         0         0         0         0         0         0   \n",
       "\n",
       "   pixel781  pixel782  pixel783  pixel784  \n",
       "0         0         0         0         0  \n",
       "1         0         0         0         0  \n",
       "2         0         0         0         0  \n",
       "3         0         0         0         0  \n",
       "4         0         0         0         0  \n",
       "\n",
       "[5 rows x 784 columns]"
      ]
     },
     "execution_count": 6,
     "metadata": {},
     "output_type": "execute_result"
    }
   ],
   "source": [
    "X.head()"
   ]
  },
  {
   "cell_type": "markdown",
   "id": "7ed393ef-9117-4e27-aed3-41b51b9c991d",
   "metadata": {},
   "source": [
    "## 1.2. Target"
   ]
  },
  {
   "cell_type": "code",
   "execution_count": 7,
   "id": "6eb09523-ee4c-4b0c-8ac6-618263c86767",
   "metadata": {},
   "outputs": [],
   "source": [
    "y: pd.DataFrame = dataset[\"target\"]"
   ]
  },
  {
   "cell_type": "code",
   "execution_count": 8,
   "id": "6788ca7f-5ad7-4cfc-9f7b-c3d8d279993f",
   "metadata": {},
   "outputs": [
    {
     "data": {
      "text/plain": [
       "(70000,)"
      ]
     },
     "execution_count": 8,
     "metadata": {},
     "output_type": "execute_result"
    }
   ],
   "source": [
    "y.shape"
   ]
  },
  {
   "cell_type": "code",
   "execution_count": 9,
   "id": "db894f73-d6e8-409b-814c-4f29d7efb41e",
   "metadata": {},
   "outputs": [
    {
     "data": {
      "text/plain": [
       "0    5\n",
       "1    0\n",
       "2    4\n",
       "3    1\n",
       "4    9\n",
       "Name: class, dtype: category\n",
       "Categories (10, object): ['0', '1', '2', '3', ..., '6', '7', '8', '9']"
      ]
     },
     "execution_count": 9,
     "metadata": {},
     "output_type": "execute_result"
    }
   ],
   "source": [
    "y.head()"
   ]
  },
  {
   "cell_type": "code",
   "execution_count": 10,
   "id": "d872e20e-48a8-4809-9e74-37016efc9921",
   "metadata": {},
   "outputs": [
    {
     "data": {
      "text/plain": [
       "class\n",
       "1    7877\n",
       "7    7293\n",
       "3    7141\n",
       "2    6990\n",
       "9    6958\n",
       "0    6903\n",
       "6    6876\n",
       "8    6825\n",
       "4    6824\n",
       "5    6313\n",
       "Name: count, dtype: int64"
      ]
     },
     "execution_count": 10,
     "metadata": {},
     "output_type": "execute_result"
    }
   ],
   "source": [
    "y.value_counts()"
   ]
  },
  {
   "cell_type": "markdown",
   "id": "6c84c6cb-57d9-4873-a5ff-1915871f4167",
   "metadata": {},
   "source": [
    "## 1.3. Instance"
   ]
  },
  {
   "cell_type": "code",
   "execution_count": 11,
   "id": "1391eef8-1369-44f8-adf8-149f0c111055",
   "metadata": {},
   "outputs": [],
   "source": [
    "import matplotlib as mpl\n",
    "import matplotlib.pyplot as plt"
   ]
  },
  {
   "cell_type": "markdown",
   "id": "448ec01e-0451-42e3-9c24-64d6866f2161",
   "metadata": {},
   "source": [
    "Find the first occurance of the number eight"
   ]
  },
  {
   "cell_type": "code",
   "execution_count": 12,
   "id": "5063867c-131a-4f7d-9152-45245c97ae6d",
   "metadata": {},
   "outputs": [],
   "source": [
    "arg = np.argwhere(y.astype(int) == 8)[0]"
   ]
  },
  {
   "cell_type": "markdown",
   "id": "a82d8f2d-ebf6-4342-8172-441631ac5095",
   "metadata": {},
   "source": [
    "Plot the number eight"
   ]
  },
  {
   "cell_type": "code",
   "execution_count": 13,
   "id": "75527547-baeb-4c85-94d0-8607cfd7ca11",
   "metadata": {},
   "outputs": [],
   "source": [
    "instance = X.iloc[arg].to_numpy()"
   ]
  },
  {
   "cell_type": "code",
   "execution_count": 14,
   "id": "b8320cee-0f58-4060-89ba-36c7ab22798e",
   "metadata": {},
   "outputs": [
    {
     "data": {
      "image/png": "[encoded data removed]",
      "text/plain": [
       "<Figure size 640x480 with 1 Axes>"
      ]
     },
     "metadata": {},
     "output_type": "display_data"
    }
   ],
   "source": [
    "plt.imshow(instance.reshape(28, 28), cmap=\"binary\")\n",
    "plt.show()"
   ]
  },
  {
   "cell_type": "markdown",
   "id": "fb1e3ca3-76de-4d18-aad9-2fdd9f314af1",
   "metadata": {},
   "source": [
    "# 2. Binary"
   ]
  },
  {
   "cell_type": "markdown",
   "id": "e4bf59a2-2fb1-4b6e-be9f-e1d16fce377f",
   "metadata": {},
   "source": [
    "## 2.1. Train"
   ]
  },
  {
   "cell_type": "markdown",
   "id": "d8cf851c-916e-4a66-be18-3be667b0696d",
   "metadata": {},
   "source": [
    "Bin class for the number eight"
   ]
  },
  {
   "cell_type": "code",
   "execution_count": 15,
   "id": "045c861f-46ce-4e5a-a617-81f85ef02856",
   "metadata": {},
   "outputs": [],
   "source": [
    "SPLIT = 60000"
   ]
  },
  {
   "cell_type": "code",
   "execution_count": 16,
   "id": "5d9aa30e-e396-4347-8839-2023780be9c8",
   "metadata": {},
   "outputs": [],
   "source": [
    "X_train, X_test, y_train, y_test = X[:SPLIT], X[SPLIT:], y[:SPLIT], y[SPLIT:]"
   ]
  },
  {
   "cell_type": "code",
   "execution_count": 17,
   "id": "b66b8ba5-4120-489e-8a84-b2a0e5cfcf6a",
   "metadata": {},
   "outputs": [],
   "source": [
    "y_train_8, y_test_8 = y_train.apply(lambda x: int(x) == 8), y_test.apply(\n",
    "    lambda x: int(x) == 8\n",
    ")"
   ]
  },
  {
   "cell_type": "markdown",
   "id": "1b00ec92-8bc4-4da3-af96-db00cbfb1edb",
   "metadata": {},
   "source": [
    "### 2.1.1. Baseline"
   ]
  },
  {
   "cell_type": "code",
   "execution_count": 18,
   "id": "b697e28a-70ec-47c2-a2f1-be545b78485c",
   "metadata": {},
   "outputs": [],
   "source": [
    "from sklearn.base import BaseEstimator"
   ]
  },
  {
   "cell_type": "code",
   "execution_count": 19,
   "id": "2bcc4459-6bf9-4136-89bb-5cdf464ece4e",
   "metadata": {},
   "outputs": [],
   "source": [
    "class NeverFiveClassifier(BaseEstimator):\n",
    "    def fit(self, X, y=None):\n",
    "        pass\n",
    "\n",
    "    def predict(self, X):\n",
    "        return np.zeros((len(X), 1), dtype=bool)"
   ]
  },
  {
   "cell_type": "code",
   "execution_count": 20,
   "id": "049d573e-52a8-4f0e-a0e6-58eb894ce278",
   "metadata": {},
   "outputs": [],
   "source": [
    "baseline = NeverFiveClassifier()"
   ]
  },
  {
   "cell_type": "markdown",
   "id": "76f3340f-94f1-4249-9d1a-c45b006515fc",
   "metadata": {},
   "source": [
    "Compute accuracy with cross validation "
   ]
  },
  {
   "cell_type": "code",
   "execution_count": 21,
   "id": "7f7bd320-2b3c-4299-9ac4-bebea385dda5",
   "metadata": {},
   "outputs": [],
   "source": [
    "from sklearn.model_selection import cross_val_score"
   ]
  },
  {
   "cell_type": "code",
   "execution_count": 22,
   "id": "c027cbaa-1c53-455d-ad69-2c8bd19732c3",
   "metadata": {},
   "outputs": [],
   "source": [
    "scores = cross_val_score(baseline, X_train, y_train_8, cv=3, scoring=\"accuracy\")"
   ]
  },
  {
   "cell_type": "code",
   "execution_count": 23,
   "id": "0c2b0703-63ed-4ad9-a42e-7c525db794ad",
   "metadata": {},
   "outputs": [
    {
     "data": {
      "text/plain": [
       "array([0.9039 , 0.9031 , 0.90045])"
      ]
     },
     "execution_count": 23,
     "metadata": {},
     "output_type": "execute_result"
    }
   ],
   "source": [
    "scores"
   ]
  },
  {
   "cell_type": "markdown",
   "id": "95d15aeb-04c7-4454-bbc1-293eaa518cac",
   "metadata": {},
   "source": [
    "### 2.1.2. Model"
   ]
  },
  {
   "cell_type": "code",
   "execution_count": 24,
   "id": "e35c7bcf-a244-4e43-be46-af350d6c4b94",
   "metadata": {},
   "outputs": [],
   "source": [
    "from sklearn.linear_model import LogisticRegression"
   ]
  },
  {
   "cell_type": "code",
   "execution_count": 25,
   "id": "4691f5c0-bc3a-4868-833d-cec874703d48",
   "metadata": {},
   "outputs": [],
   "source": [
    "model = LogisticRegression(max_iter=1000, solver=\"newton-cholesky\")"
   ]
  },
  {
   "cell_type": "markdown",
   "id": "e150a3c0-21f2-46bc-a04d-9494b05b51da",
   "metadata": {},
   "source": [
    "Compute accuracy with cross validation "
   ]
  },
  {
   "cell_type": "code",
   "execution_count": 26,
   "id": "9289cb58-69f4-4801-9dd4-696003dfe949",
   "metadata": {},
   "outputs": [],
   "source": [
    "from sklearn.model_selection import cross_val_score"
   ]
  },
  {
   "cell_type": "code",
   "execution_count": 27,
   "id": "c30ffc19-05d7-4cf2-8f57-f9b57afe9d5a",
   "metadata": {},
   "outputs": [],
   "source": [
    "scores = cross_val_score(model, X_train, y_train_8, cv=3, scoring=\"accuracy\")"
   ]
  },
  {
   "cell_type": "code",
   "execution_count": 28,
   "id": "09be1403-6731-4d74-a290-457b9f56b7fd",
   "metadata": {},
   "outputs": [
    {
     "data": {
      "text/plain": [
       "array([0.95685, 0.9552 , 0.9595 ])"
      ]
     },
     "execution_count": 28,
     "metadata": {},
     "output_type": "execute_result"
    }
   ],
   "source": [
    "scores"
   ]
  },
  {
   "cell_type": "markdown",
   "id": "bf438c5b-f00d-441f-9dea-fcc7c4bf3c2f",
   "metadata": {},
   "source": [
    "## 2.2. Validate"
   ]
  },
  {
   "cell_type": "markdown",
   "id": "c564e339-fbe4-4b77-bcfc-a93de2694480",
   "metadata": {},
   "source": [
    "### 2.2.1. Metrics"
   ]
  },
  {
   "cell_type": "markdown",
   "id": "cf6f2424-e4f2-4006-a20e-65c503d380d8",
   "metadata": {},
   "source": [
    "Compute the predictions per instance when they were in the validation fold"
   ]
  },
  {
   "cell_type": "code",
   "execution_count": 29,
   "id": "2bbbaebd-231d-4cab-a148-41ab7131688c",
   "metadata": {},
   "outputs": [],
   "source": [
    "from sklearn.model_selection import cross_val_predict"
   ]
  },
  {
   "cell_type": "code",
   "execution_count": 30,
   "id": "4197763d-2eaa-446a-a812-379f587ee704",
   "metadata": {},
   "outputs": [],
   "source": [
    "preds = cross_val_predict(model, X_train, y_train_8, cv=3)"
   ]
  },
  {
   "cell_type": "code",
   "execution_count": 31,
   "id": "6d2756af-04e6-4ccd-ac12-3c78326c00d0",
   "metadata": {},
   "outputs": [
    {
     "data": {
      "text/plain": [
       "(60000,)"
      ]
     },
     "execution_count": 31,
     "metadata": {},
     "output_type": "execute_result"
    }
   ],
   "source": [
    "preds.shape"
   ]
  },
  {
   "cell_type": "markdown",
   "id": "234198c5-1c71-463d-b781-3d7a32dff2e9",
   "metadata": {},
   "source": [
    "Compute the confusion matrix (tn, fp, fn, tp)"
   ]
  },
  {
   "cell_type": "code",
   "execution_count": 32,
   "id": "ec93df33-c809-429c-a6e8-4c9041904e6d",
   "metadata": {},
   "outputs": [],
   "source": [
    "from sklearn.metrics import confusion_matrix"
   ]
  },
  {
   "cell_type": "code",
   "execution_count": 33,
   "id": "110e9584-0fb2-47b8-8050-5de9244ca0c7",
   "metadata": {},
   "outputs": [
    {
     "data": {
      "text/plain": [
       "array([[54149,     0],\n",
       "       [    0,  5851]])"
      ]
     },
     "execution_count": 33,
     "metadata": {},
     "output_type": "execute_result"
    }
   ],
   "source": [
    "matrix = confusion_matrix(y_train_8, y_train_8)  # sanity check\n",
    "matrix"
   ]
  },
  {
   "cell_type": "code",
   "execution_count": 34,
   "id": "b030c4df-a090-435a-8f7b-11d67a5a0885",
   "metadata": {},
   "outputs": [
    {
     "data": {
      "text/plain": [
       "array([[53296,   853],\n",
       "       [ 1716,  4135]])"
      ]
     },
     "execution_count": 34,
     "metadata": {},
     "output_type": "execute_result"
    }
   ],
   "source": [
    "matrix = confusion_matrix(y_train_8, preds)\n",
    "matrix"
   ]
  },
  {
   "cell_type": "code",
   "execution_count": 35,
   "id": "0203a7c6-bee5-42ed-a9db-27b835709a34",
   "metadata": {},
   "outputs": [],
   "source": [
    "tn, fp, fn, tp = matrix.flatten()"
   ]
  },
  {
   "cell_type": "markdown",
   "id": "2adcbe51-3e3e-46c7-991e-55da041e3723",
   "metadata": {},
   "source": [
    "Compute metrics"
   ]
  },
  {
   "cell_type": "code",
   "execution_count": 36,
   "id": "cc417ae6-e2ed-4ff0-9024-df2d94f510ed",
   "metadata": {},
   "outputs": [],
   "source": [
    "metrics = dict(acc=(tn + tp) / len(y_train_8), pre=tp / (tp + fp), rec=tp / (tp + fn))\n",
    "metrics[\" f1\"] = (\n",
    "    2 * (metrics[\"pre\"] * metrics[\"rec\"]) / (metrics[\"pre\"] + metrics[\"rec\"])\n",
    ")"
   ]
  },
  {
   "cell_type": "code",
   "execution_count": 37,
   "id": "ef952c8d-ac6b-46f0-a58d-0060f50c305a",
   "metadata": {},
   "outputs": [
    {
     "name": "stdout",
     "output_type": "stream",
     "text": [
      "acc 0.9571833333333334\n",
      "pre 0.8289895749799518\n",
      "rec 0.7067168005469151\n",
      " f1 0.7629855152689363\n"
     ]
    }
   ],
   "source": [
    "for k in metrics.keys():\n",
    "    print(k, metrics[k])"
   ]
  },
  {
   "cell_type": "markdown",
   "id": "1279acfe-4cf5-4b05-91a4-95d34e69af4d",
   "metadata": {},
   "source": [
    "### 2.2.2. Precision vs recall tradeoff"
   ]
  },
  {
   "cell_type": "markdown",
   "id": "fb18fb81-72c1-473e-a7c4-79e86f5edfad",
   "metadata": {},
   "source": [
    "Draw precision vs recall curve"
   ]
  },
  {
   "cell_type": "code",
   "execution_count": 38,
   "id": "a42958fe-43ec-402c-a982-50f5382b388c",
   "metadata": {},
   "outputs": [],
   "source": [
    "preds = cross_val_predict(\n",
    "    model, X_train, y_train_8, cv=3, method=\"decision_function\"\n",
    ")  # logit"
   ]
  },
  {
   "cell_type": "code",
   "execution_count": 39,
   "id": "815da876-e93c-4afb-acc1-84be62825520",
   "metadata": {},
   "outputs": [
    {
     "data": {
      "text/plain": [
       "(60000,)"
      ]
     },
     "execution_count": 39,
     "metadata": {},
     "output_type": "execute_result"
    }
   ],
   "source": [
    "preds.shape"
   ]
  },
  {
   "cell_type": "code",
   "execution_count": 40,
   "id": "d0b93eb3-21a4-4e7f-95fa-8bac2dc7aedf",
   "metadata": {},
   "outputs": [],
   "source": [
    "from sklearn.metrics import precision_recall_curve"
   ]
  },
  {
   "cell_type": "code",
   "execution_count": 41,
   "id": "7785ade9-c51d-4a46-8863-7be36e7719c7",
   "metadata": {},
   "outputs": [],
   "source": [
    "pre, rec, thr = precision_recall_curve(y_train_8, preds)\n",
    "dif = abs(pre - rec)"
   ]
  },
  {
   "cell_type": "code",
   "execution_count": 42,
   "id": "ac9e90ad-ba8e-4966-9f20-b88379fc5c1f",
   "metadata": {},
   "outputs": [
    {
     "data": {
      "image/png": "[encoded data removed]",
      "text/plain": [
       "<Figure size 640x480 with 1 Axes>"
      ]
     },
     "metadata": {},
     "output_type": "display_data"
    }
   ],
   "source": [
    "plt.plot(thr[-30000:-1], pre[-30000:-1], \"b--\", label=\"Precision\")\n",
    "plt.plot(thr[-30000:-1], rec[-30000:-1], \"g--\", label=\"Recall\")\n",
    "plt.plot(thr[-30000:-1], dif[-30000:-1], \"y--\", label=\"Diff\")\n",
    "plt.show()"
   ]
  },
  {
   "cell_type": "markdown",
   "id": "50aad18e-347f-4f44-838a-ddfcfa4bf099",
   "metadata": {},
   "source": [
    "Use a threshold where precision and recall are equal"
   ]
  },
  {
   "cell_type": "code",
   "execution_count": 43,
   "id": "9095ea39-1380-4fb5-842c-688232f260db",
   "metadata": {},
   "outputs": [],
   "source": [
    "eq_thr_idx = np.argmin(dif)"
   ]
  },
  {
   "cell_type": "code",
   "execution_count": 44,
   "id": "ffd8d66f-0353-4304-ba12-141aa2c9a44c",
   "metadata": {},
   "outputs": [
    {
     "data": {
      "text/plain": [
       "(np.float64(0.7699538540420441), np.float64(0.7699538540420441))"
      ]
     },
     "execution_count": 44,
     "metadata": {},
     "output_type": "execute_result"
    }
   ],
   "source": [
    "pre[eq_thr_idx], rec[eq_thr_idx]"
   ]
  },
  {
   "cell_type": "code",
   "execution_count": 45,
   "id": "3ead8d3e-ef0d-4235-9969-485c489fe24c",
   "metadata": {},
   "outputs": [
    {
     "data": {
      "text/plain": [
       "np.float64(-0.5565791896806651)"
      ]
     },
     "execution_count": 45,
     "metadata": {},
     "output_type": "execute_result"
    }
   ],
   "source": [
    "eq_thr = thr[eq_thr_idx]\n",
    "eq_thr"
   ]
  },
  {
   "cell_type": "markdown",
   "id": "340b377f-aa31-4f26-b620-ede8f6dd2ea7",
   "metadata": {},
   "source": [
    "Recalculate confusion matrix"
   ]
  },
  {
   "cell_type": "code",
   "execution_count": 46,
   "id": "d71fb21c-b6e7-4e59-a961-ce05116c209a",
   "metadata": {},
   "outputs": [
    {
     "data": {
      "text/plain": [
       "array([[52803,  1346],\n",
       "       [ 1346,  4505]])"
      ]
     },
     "execution_count": 46,
     "metadata": {},
     "output_type": "execute_result"
    }
   ],
   "source": [
    "matrix = confusion_matrix(y_train_8, (preds >= eq_thr))\n",
    "matrix"
   ]
  },
  {
   "cell_type": "markdown",
   "id": "76fd5f85-d083-4d97-8424-989aa85c8fef",
   "metadata": {},
   "source": [
    "Recalculate metrics"
   ]
  },
  {
   "cell_type": "code",
   "execution_count": 47,
   "id": "9fb1a729-f540-4ee9-a24e-648dbfbc873c",
   "metadata": {},
   "outputs": [],
   "source": [
    "tn, fp, fn, tp = matrix.flatten()"
   ]
  },
  {
   "cell_type": "code",
   "execution_count": 48,
   "id": "5f0c29bb-1bcb-4ab6-a3d9-fb0588f42b0c",
   "metadata": {},
   "outputs": [],
   "source": [
    "metrics = dict(acc=(tn + tp) / len(y_train_8), pre=tp / (tp + fp), rec=tp / (tp + fn))\n",
    "metrics[\" f1\"] = (\n",
    "    2 * (metrics[\"pre\"] * metrics[\"rec\"]) / (metrics[\"pre\"] + metrics[\"rec\"])\n",
    ")"
   ]
  },
  {
   "cell_type": "code",
   "execution_count": 49,
   "id": "19871cd1-1be6-4800-b099-bb56b163759c",
   "metadata": {},
   "outputs": [
    {
     "name": "stdout",
     "output_type": "stream",
     "text": [
      "acc 0.9551333333333333\n",
      "pre 0.7699538540420441\n",
      "rec 0.7699538540420441\n",
      " f1 0.7699538540420441\n"
     ]
    }
   ],
   "source": [
    "for k in metrics.keys():\n",
    "    print(k, metrics[k])"
   ]
  },
  {
   "cell_type": "markdown",
   "id": "7511b792-06ea-4dd9-b931-5daf6d1c3660",
   "metadata": {},
   "source": [
    "### 2.2.3. Receiver operating characteristic"
   ]
  },
  {
   "cell_type": "markdown",
   "id": "88549e9e-2577-4017-adbf-1975e0207034",
   "metadata": {},
   "source": [
    "Draw ROC curve: FPR (1-TNR) vs TPR (Recall)"
   ]
  },
  {
   "cell_type": "code",
   "execution_count": 50,
   "id": "7cb2d993-d0cb-4194-bbd4-5195f6f22f2b",
   "metadata": {},
   "outputs": [],
   "source": [
    "from sklearn.metrics import roc_curve, roc_auc_score"
   ]
  },
  {
   "cell_type": "code",
   "execution_count": 51,
   "id": "d435b84c-a983-4261-98c7-cd209334f35c",
   "metadata": {},
   "outputs": [],
   "source": [
    "fpr, tpr, thr = roc_curve(y_train_8, preds)"
   ]
  },
  {
   "cell_type": "code",
   "execution_count": 52,
   "id": "2218db5e-96ae-4aa9-9093-04fc19473590",
   "metadata": {},
   "outputs": [
    {
     "data": {
      "text/plain": [
       "np.float64(0.9596215142820488)"
      ]
     },
     "execution_count": 52,
     "metadata": {},
     "output_type": "execute_result"
    }
   ],
   "source": [
    "roc_auc_score(y_train_8, preds)"
   ]
  },
  {
   "cell_type": "code",
   "execution_count": 53,
   "id": "209551ce-c352-49f9-ae23-839d36ecd11c",
   "metadata": {},
   "outputs": [
    {
     "data": {
      "image/png": "[encoded data removed]",
      "text/plain": [
       "<Figure size 640x480 with 1 Axes>"
      ]
     },
     "metadata": {},
     "output_type": "display_data"
    }
   ],
   "source": [
    "plt.plot(fpr, tpr, linewidth=2)\n",
    "plt.plot([0, 1], [0, 1], \"k--\")\n",
    "plt.show()"
   ]
  },
  {
   "cell_type": "markdown",
   "id": "11befb5f-5c5c-4dbf-a75f-939108736eb3",
   "metadata": {},
   "source": [
    "## 2.3. Test"
   ]
  },
  {
   "cell_type": "markdown",
   "id": "51bddf42-e86c-43b4-9e1b-0b14f66a08f0",
   "metadata": {},
   "source": [
    "### 2.3.1. Fit"
   ]
  },
  {
   "cell_type": "code",
   "execution_count": 54,
   "id": "0b6b1592-2d67-4b0d-9b22-b009bd7300ea",
   "metadata": {},
   "outputs": [
    {
     "data": {
      "text/html": [
       "<style>#sk-container-id-1 {\n",
       "  /* Definition of color scheme common for light and dark mode */\n",
       "  --sklearn-color-text: black;\n",
       "  --sklearn-color-line: gray;\n",
       "  /* Definition of color scheme for unfitted estimators */\n",
       "  --sklearn-color-unfitted-level-0: #fff5e6;\n",
       "  --sklearn-color-unfitted-level-1: #f6e4d2;\n",
       "  --sklearn-color-unfitted-level-2: #ffe0b3;\n",
       "  --sklearn-color-unfitted-level-3: chocolate;\n",
       "  /* Definition of color scheme for fitted estimators */\n",
       "  --sklearn-color-fitted-level-0: #f0f8ff;\n",
       "  --sklearn-color-fitted-level-1: #d4ebff;\n",
       "  --sklearn-color-fitted-level-2: #b3dbfd;\n",
       "  --sklearn-color-fitted-level-3: cornflowerblue;\n",
       "\n",
       "  /* Specific color for light theme */\n",
       "  --sklearn-color-text-on-default-background: var(--sg-text-color, var(--theme-code-foreground, var(--jp-content-font-color1, black)));\n",
       "  --sklearn-color-background: var(--sg-background-color, var(--theme-background, var(--jp-layout-color0, white)));\n",
       "  --sklearn-color-border-box: var(--sg-text-color, var(--theme-code-foreground, var(--jp-content-font-color1, black)));\n",
       "  --sklearn-color-icon: #696969;\n",
       "\n",
       "  @media (prefers-color-scheme: dark) {\n",
       "    /* Redefinition of color scheme for dark theme */\n",
       "    --sklearn-color-text-on-default-background: var(--sg-text-color, var(--theme-code-foreground, var(--jp-content-font-color1, white)));\n",
       "    --sklearn-color-background: var(--sg-background-color, var(--theme-background, var(--jp-layout-color0, #111)));\n",
       "    --sklearn-color-border-box: var(--sg-text-color, var(--theme-code-foreground, var(--jp-content-font-color1, white)));\n",
       "    --sklearn-color-icon: #878787;\n",
       "  }\n",
       "}\n",
       "\n",
       "#sk-container-id-1 {\n",
       "  color: var(--sklearn-color-text);\n",
       "}\n",
       "\n",
       "#sk-container-id-1 pre {\n",
       "  padding: 0;\n",
       "}\n",
       "\n",
       "#sk-container-id-1 input.sk-hidden--visually {\n",
       "  border: 0;\n",
       "  clip: rect(1px 1px 1px 1px);\n",
       "  clip: rect(1px, 1px, 1px, 1px);\n",
       "  height: 1px;\n",
       "  margin: -1px;\n",
       "  overflow: hidden;\n",
       "  padding: 0;\n",
       "  position: absolute;\n",
       "  width: 1px;\n",
       "}\n",
       "\n",
       "#sk-container-id-1 div.sk-dashed-wrapped {\n",
       "  border: 1px dashed var(--sklearn-color-line);\n",
       "  margin: 0 0.4em 0.5em 0.4em;\n",
       "  box-sizing: border-box;\n",
       "  padding-bottom: 0.4em;\n",
       "  background-color: var(--sklearn-color-background);\n",
       "}\n",
       "\n",
       "#sk-container-id-1 div.sk-container {\n",
       "  /* jupyter's `normalize.less` sets `[hidden] { display: none; }`\n",
       "     but bootstrap.min.css set `[hidden] { display: none !important; }`\n",
       "     so we also need the `!important` here to be able to override the\n",
       "     default hidden behavior on the sphinx rendered scikit-learn.org.\n",
       "     See: https://github.com/scikit-learn/scikit-learn/issues/21755 */\n",
       "  display: inline-block !important;\n",
       "  position: relative;\n",
       "}\n",
       "\n",
       "#sk-container-id-1 div.sk-text-repr-fallback {\n",
       "  display: none;\n",
       "}\n",
       "\n",
       "div.sk-parallel-item,\n",
       "div.sk-serial,\n",
       "div.sk-item {\n",
       "  /* draw centered vertical line to link estimators */\n",
       "  background-image: linear-gradient(var(--sklearn-color-text-on-default-background), var(--sklearn-color-text-on-default-background));\n",
       "  background-size: 2px 100%;\n",
       "  background-repeat: no-repeat;\n",
       "  background-position: center center;\n",
       "}\n",
       "\n",
       "/* Parallel-specific style estimator block */\n",
       "\n",
       "#sk-container-id-1 div.sk-parallel-item::after {\n",
       "  content: \"\";\n",
       "  width: 100%;\n",
       "  border-bottom: 2px solid var(--sklearn-color-text-on-default-background);\n",
       "  flex-grow: 1;\n",
       "}\n",
       "\n",
       "#sk-container-id-1 div.sk-parallel {\n",
       "  display: flex;\n",
       "  align-items: stretch;\n",
       "  justify-content: center;\n",
       "  background-color: var(--sklearn-color-background);\n",
       "  position: relative;\n",
       "}\n",
       "\n",
       "#sk-container-id-1 div.sk-parallel-item {\n",
       "  display: flex;\n",
       "  flex-direction: column;\n",
       "}\n",
       "\n",
       "#sk-container-id-1 div.sk-parallel-item:first-child::after {\n",
       "  align-self: flex-end;\n",
       "  width: 50%;\n",
       "}\n",
       "\n",
       "#sk-container-id-1 div.sk-parallel-item:last-child::after {\n",
       "  align-self: flex-start;\n",
       "  width: 50%;\n",
       "}\n",
       "\n",
       "#sk-container-id-1 div.sk-parallel-item:only-child::after {\n",
       "  width: 0;\n",
       "}\n",
       "\n",
       "/* Serial-specific style estimator block */\n",
       "\n",
       "#sk-container-id-1 div.sk-serial {\n",
       "  display: flex;\n",
       "  flex-direction: column;\n",
       "  align-items: center;\n",
       "  background-color: var(--sklearn-color-background);\n",
       "  padding-right: 1em;\n",
       "  padding-left: 1em;\n",
       "}\n",
       "\n",
       "\n",
       "/* Toggleable style: style used for estimator/Pipeline/ColumnTransformer box that is\n",
       "clickable and can be expanded/collapsed.\n",
       "- Pipeline and ColumnTransformer use this feature and define the default style\n",
       "- Estimators will overwrite some part of the style using the `sk-estimator` class\n",
       "*/\n",
       "\n",
       "/* Pipeline and ColumnTransformer style (default) */\n",
       "\n",
       "#sk-container-id-1 div.sk-toggleable {\n",
       "  /* Default theme specific background. It is overwritten whether we have a\n",
       "  specific estimator or a Pipeline/ColumnTransformer */\n",
       "  background-color: var(--sklearn-color-background);\n",
       "}\n",
       "\n",
       "/* Toggleable label */\n",
       "#sk-container-id-1 label.sk-toggleable__label {\n",
       "  cursor: pointer;\n",
       "  display: block;\n",
       "  width: 100%;\n",
       "  margin-bottom: 0;\n",
       "  padding: 0.5em;\n",
       "  box-sizing: border-box;\n",
       "  text-align: center;\n",
       "}\n",
       "\n",
       "#sk-container-id-1 label.sk-toggleable__label-arrow:before {\n",
       "  /* Arrow on the left of the label */\n",
       "  content: \"▸\";\n",
       "  float: left;\n",
       "  margin-right: 0.25em;\n",
       "  color: var(--sklearn-color-icon);\n",
       "}\n",
       "\n",
       "#sk-container-id-1 label.sk-toggleable__label-arrow:hover:before {\n",
       "  color: var(--sklearn-color-text);\n",
       "}\n",
       "\n",
       "/* Toggleable content - dropdown */\n",
       "\n",
       "#sk-container-id-1 div.sk-toggleable__content {\n",
       "  max-height: 0;\n",
       "  max-width: 0;\n",
       "  overflow: hidden;\n",
       "  text-align: left;\n",
       "  /* unfitted */\n",
       "  background-color: var(--sklearn-color-unfitted-level-0);\n",
       "}\n",
       "\n",
       "#sk-container-id-1 div.sk-toggleable__content.fitted {\n",
       "  /* fitted */\n",
       "  background-color: var(--sklearn-color-fitted-level-0);\n",
       "}\n",
       "\n",
       "#sk-container-id-1 div.sk-toggleable__content pre {\n",
       "  margin: 0.2em;\n",
       "  border-radius: 0.25em;\n",
       "  color: var(--sklearn-color-text);\n",
       "  /* unfitted */\n",
       "  background-color: var(--sklearn-color-unfitted-level-0);\n",
       "}\n",
       "\n",
       "#sk-container-id-1 div.sk-toggleable__content.fitted pre {\n",
       "  /* unfitted */\n",
       "  background-color: var(--sklearn-color-fitted-level-0);\n",
       "}\n",
       "\n",
       "#sk-container-id-1 input.sk-toggleable__control:checked~div.sk-toggleable__content {\n",
       "  /* Expand drop-down */\n",
       "  max-height: 200px;\n",
       "  max-width: 100%;\n",
       "  overflow: auto;\n",
       "}\n",
       "\n",
       "#sk-container-id-1 input.sk-toggleable__control:checked~label.sk-toggleable__label-arrow:before {\n",
       "  content: \"▾\";\n",
       "}\n",
       "\n",
       "/* Pipeline/ColumnTransformer-specific style */\n",
       "\n",
       "#sk-container-id-1 div.sk-label input.sk-toggleable__control:checked~label.sk-toggleable__label {\n",
       "  color: var(--sklearn-color-text);\n",
       "  background-color: var(--sklearn-color-unfitted-level-2);\n",
       "}\n",
       "\n",
       "#sk-container-id-1 div.sk-label.fitted input.sk-toggleable__control:checked~label.sk-toggleable__label {\n",
       "  background-color: var(--sklearn-color-fitted-level-2);\n",
       "}\n",
       "\n",
       "/* Estimator-specific style */\n",
       "\n",
       "/* Colorize estimator box */\n",
       "#sk-container-id-1 div.sk-estimator input.sk-toggleable__control:checked~label.sk-toggleable__label {\n",
       "  /* unfitted */\n",
       "  background-color: var(--sklearn-color-unfitted-level-2);\n",
       "}\n",
       "\n",
       "#sk-container-id-1 div.sk-estimator.fitted input.sk-toggleable__control:checked~label.sk-toggleable__label {\n",
       "  /* fitted */\n",
       "  background-color: var(--sklearn-color-fitted-level-2);\n",
       "}\n",
       "\n",
       "#sk-container-id-1 div.sk-label label.sk-toggleable__label,\n",
       "#sk-container-id-1 div.sk-label label {\n",
       "  /* The background is the default theme color */\n",
       "  color: var(--sklearn-color-text-on-default-background);\n",
       "}\n",
       "\n",
       "/* On hover, darken the color of the background */\n",
       "#sk-container-id-1 div.sk-label:hover label.sk-toggleable__label {\n",
       "  color: var(--sklearn-color-text);\n",
       "  background-color: var(--sklearn-color-unfitted-level-2);\n",
       "}\n",
       "\n",
       "/* Label box, darken color on hover, fitted */\n",
       "#sk-container-id-1 div.sk-label.fitted:hover label.sk-toggleable__label.fitted {\n",
       "  color: var(--sklearn-color-text);\n",
       "  background-color: var(--sklearn-color-fitted-level-2);\n",
       "}\n",
       "\n",
       "/* Estimator label */\n",
       "\n",
       "#sk-container-id-1 div.sk-label label {\n",
       "  font-family: monospace;\n",
       "  font-weight: bold;\n",
       "  display: inline-block;\n",
       "  line-height: 1.2em;\n",
       "}\n",
       "\n",
       "#sk-container-id-1 div.sk-label-container {\n",
       "  text-align: center;\n",
       "}\n",
       "\n",
       "/* Estimator-specific */\n",
       "#sk-container-id-1 div.sk-estimator {\n",
       "  font-family: monospace;\n",
       "  border: 1px dotted var(--sklearn-color-border-box);\n",
       "  border-radius: 0.25em;\n",
       "  box-sizing: border-box;\n",
       "  margin-bottom: 0.5em;\n",
       "  /* unfitted */\n",
       "  background-color: var(--sklearn-color-unfitted-level-0);\n",
       "}\n",
       "\n",
       "#sk-container-id-1 div.sk-estimator.fitted {\n",
       "  /* fitted */\n",
       "  background-color: var(--sklearn-color-fitted-level-0);\n",
       "}\n",
       "\n",
       "/* on hover */\n",
       "#sk-container-id-1 div.sk-estimator:hover {\n",
       "  /* unfitted */\n",
       "  background-color: var(--sklearn-color-unfitted-level-2);\n",
       "}\n",
       "\n",
       "#sk-container-id-1 div.sk-estimator.fitted:hover {\n",
       "  /* fitted */\n",
       "  background-color: var(--sklearn-color-fitted-level-2);\n",
       "}\n",
       "\n",
       "/* Specification for estimator info (e.g. \"i\" and \"?\") */\n",
       "\n",
       "/* Common style for \"i\" and \"?\" */\n",
       "\n",
       ".sk-estimator-doc-link,\n",
       "a:link.sk-estimator-doc-link,\n",
       "a:visited.sk-estimator-doc-link {\n",
       "  float: right;\n",
       "  font-size: smaller;\n",
       "  line-height: 1em;\n",
       "  font-family: monospace;\n",
       "  background-color: var(--sklearn-color-background);\n",
       "  border-radius: 1em;\n",
       "  height: 1em;\n",
       "  width: 1em;\n",
       "  text-decoration: none !important;\n",
       "  margin-left: 1ex;\n",
       "  /* unfitted */\n",
       "  border: var(--sklearn-color-unfitted-level-1) 1pt solid;\n",
       "  color: var(--sklearn-color-unfitted-level-1);\n",
       "}\n",
       "\n",
       ".sk-estimator-doc-link.fitted,\n",
       "a:link.sk-estimator-doc-link.fitted,\n",
       "a:visited.sk-estimator-doc-link.fitted {\n",
       "  /* fitted */\n",
       "  border: var(--sklearn-color-fitted-level-1) 1pt solid;\n",
       "  color: var(--sklearn-color-fitted-level-1);\n",
       "}\n",
       "\n",
       "/* On hover */\n",
       "div.sk-estimator:hover .sk-estimator-doc-link:hover,\n",
       ".sk-estimator-doc-link:hover,\n",
       "div.sk-label-container:hover .sk-estimator-doc-link:hover,\n",
       ".sk-estimator-doc-link:hover {\n",
       "  /* unfitted */\n",
       "  background-color: var(--sklearn-color-unfitted-level-3);\n",
       "  color: var(--sklearn-color-background);\n",
       "  text-decoration: none;\n",
       "}\n",
       "\n",
       "div.sk-estimator.fitted:hover .sk-estimator-doc-link.fitted:hover,\n",
       ".sk-estimator-doc-link.fitted:hover,\n",
       "div.sk-label-container:hover .sk-estimator-doc-link.fitted:hover,\n",
       ".sk-estimator-doc-link.fitted:hover {\n",
       "  /* fitted */\n",
       "  background-color: var(--sklearn-color-fitted-level-3);\n",
       "  color: var(--sklearn-color-background);\n",
       "  text-decoration: none;\n",
       "}\n",
       "\n",
       "/* Span, style for the box shown on hovering the info icon */\n",
       ".sk-estimator-doc-link span {\n",
       "  display: none;\n",
       "  z-index: 9999;\n",
       "  position: relative;\n",
       "  font-weight: normal;\n",
       "  right: .2ex;\n",
       "  padding: .5ex;\n",
       "  margin: .5ex;\n",
       "  width: min-content;\n",
       "  min-width: 20ex;\n",
       "  max-width: 50ex;\n",
       "  color: var(--sklearn-color-text);\n",
       "  box-shadow: 2pt 2pt 4pt #999;\n",
       "  /* unfitted */\n",
       "  background: var(--sklearn-color-unfitted-level-0);\n",
       "  border: .5pt solid var(--sklearn-color-unfitted-level-3);\n",
       "}\n",
       "\n",
       ".sk-estimator-doc-link.fitted span {\n",
       "  /* fitted */\n",
       "  background: var(--sklearn-color-fitted-level-0);\n",
       "  border: var(--sklearn-color-fitted-level-3);\n",
       "}\n",
       "\n",
       ".sk-estimator-doc-link:hover span {\n",
       "  display: block;\n",
       "}\n",
       "\n",
       "/* \"?\"-specific style due to the `<a>` HTML tag */\n",
       "\n",
       "#sk-container-id-1 a.estimator_doc_link {\n",
       "  float: right;\n",
       "  font-size: 1rem;\n",
       "  line-height: 1em;\n",
       "  font-family: monospace;\n",
       "  background-color: var(--sklearn-color-background);\n",
       "  border-radius: 1rem;\n",
       "  height: 1rem;\n",
       "  width: 1rem;\n",
       "  text-decoration: none;\n",
       "  /* unfitted */\n",
       "  color: var(--sklearn-color-unfitted-level-1);\n",
       "  border: var(--sklearn-color-unfitted-level-1) 1pt solid;\n",
       "}\n",
       "\n",
       "#sk-container-id-1 a.estimator_doc_link.fitted {\n",
       "  /* fitted */\n",
       "  border: var(--sklearn-color-fitted-level-1) 1pt solid;\n",
       "  color: var(--sklearn-color-fitted-level-1);\n",
       "}\n",
       "\n",
       "/* On hover */\n",
       "#sk-container-id-1 a.estimator_doc_link:hover {\n",
       "  /* unfitted */\n",
       "  background-color: var(--sklearn-color-unfitted-level-3);\n",
       "  color: var(--sklearn-color-background);\n",
       "  text-decoration: none;\n",
       "}\n",
       "\n",
       "#sk-container-id-1 a.estimator_doc_link.fitted:hover {\n",
       "  /* fitted */\n",
       "  background-color: var(--sklearn-color-fitted-level-3);\n",
       "}\n",
       "</style><div id=\"sk-container-id-1\" class=\"sk-top-container\"><div class=\"sk-text-repr-fallback\"><pre>LogisticRegression(max_iter=1000, solver=&#x27;newton-cholesky&#x27;)</pre><b>In a Jupyter environment, please rerun this cell to show the HTML representation or trust the notebook. <br />On GitHub, the HTML representation is unable to render, please try loading this page with nbviewer.org.</b></div><div class=\"sk-container\" hidden><div class=\"sk-item\"><div class=\"sk-estimator fitted sk-toggleable\"><input class=\"sk-toggleable__control sk-hidden--visually\" id=\"sk-estimator-id-1\" type=\"checkbox\" checked><label for=\"sk-estimator-id-1\" class=\"sk-toggleable__label fitted sk-toggleable__label-arrow fitted\">&nbsp;&nbsp;LogisticRegression<a class=\"sk-estimator-doc-link fitted\" rel=\"noreferrer\" target=\"_blank\" href=\"https://scikit-learn.org/1.5/modules/generated/sklearn.linear_model.LogisticRegression.html\">?<span>Documentation for LogisticRegression</span></a><span class=\"sk-estimator-doc-link fitted\">i<span>Fitted</span></span></label><div class=\"sk-toggleable__content fitted\"><pre>LogisticRegression(max_iter=1000, solver=&#x27;newton-cholesky&#x27;)</pre></div> </div></div></div></div>"
      ],
      "text/plain": [
       "LogisticRegression(max_iter=1000, solver='newton-cholesky')"
      ]
     },
     "execution_count": 54,
     "metadata": {},
     "output_type": "execute_result"
    }
   ],
   "source": [
    "model.fit(X_train, y_train_8)"
   ]
  },
  {
   "cell_type": "markdown",
   "id": "f03644ba-9f8f-4c63-8ddd-74d893defa5a",
   "metadata": {},
   "source": [
    "Pixel weight (black smallest, white highest)"
   ]
  },
  {
   "cell_type": "code",
   "execution_count": 55,
   "id": "4d6d03ee-0684-4a9a-befd-a6a9b772673f",
   "metadata": {},
   "outputs": [
    {
     "data": {
      "image/png": "[encoded data removed]",
      "text/plain": [
       "<Figure size 640x480 with 1 Axes>"
      ]
     },
     "metadata": {},
     "output_type": "display_data"
    }
   ],
   "source": [
    "plt.imshow(model.coef_.reshape(28, 28), cmap=\"gist_gray\")\n",
    "plt.show()"
   ]
  },
  {
   "cell_type": "markdown",
   "id": "cf3043d6-ba29-481f-a11b-e622cd5171be",
   "metadata": {},
   "source": [
    "### 2.3.2. Metrics"
   ]
  },
  {
   "cell_type": "code",
   "execution_count": 56,
   "id": "0cd94b99-ed33-453f-8a85-5deb59fa838f",
   "metadata": {
    "editable": true,
    "slideshow": {
     "slide_type": ""
    },
    "tags": []
   },
   "outputs": [],
   "source": [
    "preds = model.decision_function(X_test)  # logit"
   ]
  },
  {
   "cell_type": "code",
   "execution_count": 57,
   "id": "b2bc2466-96f9-489c-863a-4f846c58e28b",
   "metadata": {},
   "outputs": [],
   "source": [
    "preds = preds >= eq_thr"
   ]
  },
  {
   "cell_type": "code",
   "execution_count": 58,
   "id": "ddc743fb-4833-4564-aa4a-a4454483a34f",
   "metadata": {},
   "outputs": [
    {
     "data": {
      "text/plain": [
       "array([[8801,  225],\n",
       "       [ 198,  776]])"
      ]
     },
     "execution_count": 58,
     "metadata": {},
     "output_type": "execute_result"
    }
   ],
   "source": [
    "matrix = confusion_matrix(y_test_8, preds)\n",
    "matrix"
   ]
  },
  {
   "cell_type": "code",
   "execution_count": 59,
   "id": "c412e51e-4897-4a57-bdbf-6e50b01d7089",
   "metadata": {},
   "outputs": [
    {
     "data": {
      "text/plain": [
       "array([[8801,  225],\n",
       "       [ 198,  776]])"
      ]
     },
     "execution_count": 59,
     "metadata": {},
     "output_type": "execute_result"
    }
   ],
   "source": [
    "matrix = confusion_matrix(y_test_8, preds)\n",
    "matrix"
   ]
  },
  {
   "cell_type": "code",
   "execution_count": 60,
   "id": "10977a0f-8112-4e4a-9b3c-2e55c06fa80e",
   "metadata": {},
   "outputs": [],
   "source": [
    "tn, fp, fn, tp = matrix.flatten()"
   ]
  },
  {
   "cell_type": "code",
   "execution_count": 61,
   "id": "0ae467f9-1a50-457d-951a-a841b70be644",
   "metadata": {},
   "outputs": [],
   "source": [
    "metrics = dict(acc=(tn + tp) / len(y_test_8), pre=tp / (tp + fp), rec=tp / (tp + fn))\n",
    "metrics[\" f1\"] = (\n",
    "    2 * (metrics[\"pre\"] * metrics[\"rec\"]) / (metrics[\"pre\"] + metrics[\"rec\"])\n",
    ")"
   ]
  },
  {
   "cell_type": "code",
   "execution_count": 62,
   "id": "05a58af1-ed14-4548-9a5c-d2e8e706d3c2",
   "metadata": {},
   "outputs": [
    {
     "name": "stdout",
     "output_type": "stream",
     "text": [
      "acc 0.9577\n",
      "pre 0.7752247752247752\n",
      "rec 0.7967145790554415\n",
      " f1 0.7858227848101267\n"
     ]
    }
   ],
   "source": [
    "for k in metrics.keys():\n",
    "    print(k, metrics[k])"
   ]
  },
  {
   "cell_type": "code",
   "execution_count": null,
   "id": "33e9ad29-0ed3-4327-b1ef-e77dd5d33174",
   "metadata": {},
   "outputs": [],
   "source": []
  }
 ],
 "metadata": {
  "kernelspec": {
   "display_name": "Python 3 (ipykernel)",
   "language": "python",
   "name": "python3"
  },
  "language_info": {
   "codemirror_mode": {
    "name": "ipython",
    "version": 3
   },
   "file_extension": ".py",
   "mimetype": "text/x-python",
   "name": "python",
   "nbconvert_exporter": "python",
   "pygments_lexer": "ipython3",
   "version": "3.9.20"
  }
 },
 "nbformat": 4,
 "nbformat_minor": 5
}
